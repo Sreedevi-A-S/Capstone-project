{
 "cells": [
  {
   "cell_type": "code",
   "execution_count": 1,
   "id": "d0186975",
   "metadata": {},
   "outputs": [],
   "source": [
    "import pandas as pd\n",
    "from sklearn.impute import SimpleImputer\n",
    "from sklearn.preprocessing import LabelEncoder\n",
    "import matplotlib.pyplot as plt\n",
    "import numpy as np\n",
    "from sklearn.model_selection import train_test_split, GridSearchCV, RandomizedSearchCV\n",
    "from sklearn.linear_model import LinearRegression\n",
    "from sklearn.metrics import mean_absolute_error, mean_squared_error\n",
    "from sklearn.tree import DecisionTreeRegressor\n",
    "from sklearn.ensemble import RandomForestRegressor\n",
    "from sklearn.neighbors import KNeighborsRegressor\n",
    "from sklearn.svm import SVR\n",
    "from sklearn.ensemble import AdaBoostRegressor\n",
    "from sklearn.ensemble import GradientBoostingRegressor\n",
    "from xgboost import XGBRegressor"
   ]
  },
  {
   "cell_type": "code",
   "execution_count": 2,
   "id": "4eb6df5d",
   "metadata": {},
   "outputs": [
    {
     "data": {
      "text/html": [
       "<div>\n",
       "<style scoped>\n",
       "    .dataframe tbody tr th:only-of-type {\n",
       "        vertical-align: middle;\n",
       "    }\n",
       "\n",
       "    .dataframe tbody tr th {\n",
       "        vertical-align: top;\n",
       "    }\n",
       "\n",
       "    .dataframe thead th {\n",
       "        text-align: right;\n",
       "    }\n",
       "</style>\n",
       "<table border=\"1\" class=\"dataframe\">\n",
       "  <thead>\n",
       "    <tr style=\"text-align: right;\">\n",
       "      <th></th>\n",
       "      <th>Make</th>\n",
       "      <th>Model</th>\n",
       "      <th>Price</th>\n",
       "      <th>Year</th>\n",
       "      <th>Kilometer</th>\n",
       "      <th>Fuel Type</th>\n",
       "      <th>Transmission</th>\n",
       "      <th>Location</th>\n",
       "      <th>Color</th>\n",
       "      <th>Owner</th>\n",
       "      <th>Seller Type</th>\n",
       "      <th>Engine</th>\n",
       "      <th>Max Power</th>\n",
       "      <th>Max Torque</th>\n",
       "      <th>Drivetrain</th>\n",
       "      <th>Length</th>\n",
       "      <th>Width</th>\n",
       "      <th>Height</th>\n",
       "      <th>Seating Capacity</th>\n",
       "      <th>Fuel Tank Capacity</th>\n",
       "    </tr>\n",
       "  </thead>\n",
       "  <tbody>\n",
       "    <tr>\n",
       "      <th>0</th>\n",
       "      <td>Honda</td>\n",
       "      <td>Amaze 1.2 VX i-VTEC</td>\n",
       "      <td>505000</td>\n",
       "      <td>2017</td>\n",
       "      <td>87150</td>\n",
       "      <td>Petrol</td>\n",
       "      <td>Manual</td>\n",
       "      <td>Pune</td>\n",
       "      <td>Grey</td>\n",
       "      <td>First</td>\n",
       "      <td>Corporate</td>\n",
       "      <td>1198 cc</td>\n",
       "      <td>87 bhp @ 6000 rpm</td>\n",
       "      <td>109 Nm @ 4500 rpm</td>\n",
       "      <td>FWD</td>\n",
       "      <td>3990.0</td>\n",
       "      <td>1680.0</td>\n",
       "      <td>1505.0</td>\n",
       "      <td>5.0</td>\n",
       "      <td>35.0</td>\n",
       "    </tr>\n",
       "    <tr>\n",
       "      <th>1</th>\n",
       "      <td>Maruti Suzuki</td>\n",
       "      <td>Swift DZire VDI</td>\n",
       "      <td>450000</td>\n",
       "      <td>2014</td>\n",
       "      <td>75000</td>\n",
       "      <td>Diesel</td>\n",
       "      <td>Manual</td>\n",
       "      <td>Ludhiana</td>\n",
       "      <td>White</td>\n",
       "      <td>Second</td>\n",
       "      <td>Individual</td>\n",
       "      <td>1248 cc</td>\n",
       "      <td>74 bhp @ 4000 rpm</td>\n",
       "      <td>190 Nm @ 2000 rpm</td>\n",
       "      <td>FWD</td>\n",
       "      <td>3995.0</td>\n",
       "      <td>1695.0</td>\n",
       "      <td>1555.0</td>\n",
       "      <td>5.0</td>\n",
       "      <td>42.0</td>\n",
       "    </tr>\n",
       "    <tr>\n",
       "      <th>2</th>\n",
       "      <td>Hyundai</td>\n",
       "      <td>i10 Magna 1.2 Kappa2</td>\n",
       "      <td>220000</td>\n",
       "      <td>2011</td>\n",
       "      <td>67000</td>\n",
       "      <td>Petrol</td>\n",
       "      <td>Manual</td>\n",
       "      <td>Lucknow</td>\n",
       "      <td>Maroon</td>\n",
       "      <td>First</td>\n",
       "      <td>Individual</td>\n",
       "      <td>1197 cc</td>\n",
       "      <td>79 bhp @ 6000 rpm</td>\n",
       "      <td>112.7619 Nm @ 4000 rpm</td>\n",
       "      <td>FWD</td>\n",
       "      <td>3585.0</td>\n",
       "      <td>1595.0</td>\n",
       "      <td>1550.0</td>\n",
       "      <td>5.0</td>\n",
       "      <td>35.0</td>\n",
       "    </tr>\n",
       "    <tr>\n",
       "      <th>3</th>\n",
       "      <td>Toyota</td>\n",
       "      <td>Glanza G</td>\n",
       "      <td>799000</td>\n",
       "      <td>2019</td>\n",
       "      <td>37500</td>\n",
       "      <td>Petrol</td>\n",
       "      <td>Manual</td>\n",
       "      <td>Mangalore</td>\n",
       "      <td>Red</td>\n",
       "      <td>First</td>\n",
       "      <td>Individual</td>\n",
       "      <td>1197 cc</td>\n",
       "      <td>82 bhp @ 6000 rpm</td>\n",
       "      <td>113 Nm @ 4200 rpm</td>\n",
       "      <td>FWD</td>\n",
       "      <td>3995.0</td>\n",
       "      <td>1745.0</td>\n",
       "      <td>1510.0</td>\n",
       "      <td>5.0</td>\n",
       "      <td>37.0</td>\n",
       "    </tr>\n",
       "    <tr>\n",
       "      <th>4</th>\n",
       "      <td>Toyota</td>\n",
       "      <td>Innova 2.4 VX 7 STR [2016-2020]</td>\n",
       "      <td>1950000</td>\n",
       "      <td>2018</td>\n",
       "      <td>69000</td>\n",
       "      <td>Diesel</td>\n",
       "      <td>Manual</td>\n",
       "      <td>Mumbai</td>\n",
       "      <td>Grey</td>\n",
       "      <td>First</td>\n",
       "      <td>Individual</td>\n",
       "      <td>2393 cc</td>\n",
       "      <td>148 bhp @ 3400 rpm</td>\n",
       "      <td>343 Nm @ 1400 rpm</td>\n",
       "      <td>RWD</td>\n",
       "      <td>4735.0</td>\n",
       "      <td>1830.0</td>\n",
       "      <td>1795.0</td>\n",
       "      <td>7.0</td>\n",
       "      <td>55.0</td>\n",
       "    </tr>\n",
       "    <tr>\n",
       "      <th>...</th>\n",
       "      <td>...</td>\n",
       "      <td>...</td>\n",
       "      <td>...</td>\n",
       "      <td>...</td>\n",
       "      <td>...</td>\n",
       "      <td>...</td>\n",
       "      <td>...</td>\n",
       "      <td>...</td>\n",
       "      <td>...</td>\n",
       "      <td>...</td>\n",
       "      <td>...</td>\n",
       "      <td>...</td>\n",
       "      <td>...</td>\n",
       "      <td>...</td>\n",
       "      <td>...</td>\n",
       "      <td>...</td>\n",
       "      <td>...</td>\n",
       "      <td>...</td>\n",
       "      <td>...</td>\n",
       "      <td>...</td>\n",
       "    </tr>\n",
       "    <tr>\n",
       "      <th>2054</th>\n",
       "      <td>Mahindra</td>\n",
       "      <td>XUV500 W8 [2015-2017]</td>\n",
       "      <td>850000</td>\n",
       "      <td>2016</td>\n",
       "      <td>90300</td>\n",
       "      <td>Diesel</td>\n",
       "      <td>Manual</td>\n",
       "      <td>Surat</td>\n",
       "      <td>White</td>\n",
       "      <td>First</td>\n",
       "      <td>Individual</td>\n",
       "      <td>2179 cc</td>\n",
       "      <td>138 bhp @ 3750 rpm</td>\n",
       "      <td>330 Nm @ 1600 rpm</td>\n",
       "      <td>FWD</td>\n",
       "      <td>4585.0</td>\n",
       "      <td>1890.0</td>\n",
       "      <td>1785.0</td>\n",
       "      <td>7.0</td>\n",
       "      <td>70.0</td>\n",
       "    </tr>\n",
       "    <tr>\n",
       "      <th>2055</th>\n",
       "      <td>Hyundai</td>\n",
       "      <td>Eon D-Lite +</td>\n",
       "      <td>275000</td>\n",
       "      <td>2014</td>\n",
       "      <td>83000</td>\n",
       "      <td>Petrol</td>\n",
       "      <td>Manual</td>\n",
       "      <td>Ahmedabad</td>\n",
       "      <td>White</td>\n",
       "      <td>Second</td>\n",
       "      <td>Individual</td>\n",
       "      <td>814 cc</td>\n",
       "      <td>55 bhp @ 5500 rpm</td>\n",
       "      <td>75 Nm @ 4000 rpm</td>\n",
       "      <td>FWD</td>\n",
       "      <td>3495.0</td>\n",
       "      <td>1550.0</td>\n",
       "      <td>1500.0</td>\n",
       "      <td>5.0</td>\n",
       "      <td>32.0</td>\n",
       "    </tr>\n",
       "    <tr>\n",
       "      <th>2056</th>\n",
       "      <td>Ford</td>\n",
       "      <td>Figo Duratec Petrol ZXI 1.2</td>\n",
       "      <td>240000</td>\n",
       "      <td>2013</td>\n",
       "      <td>73000</td>\n",
       "      <td>Petrol</td>\n",
       "      <td>Manual</td>\n",
       "      <td>Thane</td>\n",
       "      <td>Silver</td>\n",
       "      <td>First</td>\n",
       "      <td>Individual</td>\n",
       "      <td>1196 cc</td>\n",
       "      <td>70 bhp @ 6250 rpm</td>\n",
       "      <td>102 Nm @ 4000 rpm</td>\n",
       "      <td>FWD</td>\n",
       "      <td>3795.0</td>\n",
       "      <td>1680.0</td>\n",
       "      <td>1427.0</td>\n",
       "      <td>5.0</td>\n",
       "      <td>45.0</td>\n",
       "    </tr>\n",
       "    <tr>\n",
       "      <th>2057</th>\n",
       "      <td>BMW</td>\n",
       "      <td>5-Series 520d Luxury Line [2017-2019]</td>\n",
       "      <td>4290000</td>\n",
       "      <td>2018</td>\n",
       "      <td>60474</td>\n",
       "      <td>Diesel</td>\n",
       "      <td>Automatic</td>\n",
       "      <td>Coimbatore</td>\n",
       "      <td>White</td>\n",
       "      <td>First</td>\n",
       "      <td>Individual</td>\n",
       "      <td>1995 cc</td>\n",
       "      <td>188 bhp @ 4000 rpm</td>\n",
       "      <td>400 Nm @ 1750 rpm</td>\n",
       "      <td>RWD</td>\n",
       "      <td>4936.0</td>\n",
       "      <td>1868.0</td>\n",
       "      <td>1479.0</td>\n",
       "      <td>5.0</td>\n",
       "      <td>65.0</td>\n",
       "    </tr>\n",
       "    <tr>\n",
       "      <th>2058</th>\n",
       "      <td>Mahindra</td>\n",
       "      <td>Bolero Power Plus ZLX [2016-2019]</td>\n",
       "      <td>670000</td>\n",
       "      <td>2017</td>\n",
       "      <td>72000</td>\n",
       "      <td>Diesel</td>\n",
       "      <td>Manual</td>\n",
       "      <td>Guwahati</td>\n",
       "      <td>White</td>\n",
       "      <td>First</td>\n",
       "      <td>Individual</td>\n",
       "      <td>1493 cc</td>\n",
       "      <td>70 bhp @ 3600 rpm</td>\n",
       "      <td>195 Nm @ 1400 rpm</td>\n",
       "      <td>RWD</td>\n",
       "      <td>3995.0</td>\n",
       "      <td>1745.0</td>\n",
       "      <td>1880.0</td>\n",
       "      <td>7.0</td>\n",
       "      <td>NaN</td>\n",
       "    </tr>\n",
       "  </tbody>\n",
       "</table>\n",
       "<p>2059 rows × 20 columns</p>\n",
       "</div>"
      ],
      "text/plain": [
       "               Make                                  Model    Price  Year  \\\n",
       "0             Honda                    Amaze 1.2 VX i-VTEC   505000  2017   \n",
       "1     Maruti Suzuki                        Swift DZire VDI   450000  2014   \n",
       "2           Hyundai                   i10 Magna 1.2 Kappa2   220000  2011   \n",
       "3            Toyota                               Glanza G   799000  2019   \n",
       "4            Toyota        Innova 2.4 VX 7 STR [2016-2020]  1950000  2018   \n",
       "...             ...                                    ...      ...   ...   \n",
       "2054       Mahindra                  XUV500 W8 [2015-2017]   850000  2016   \n",
       "2055        Hyundai                           Eon D-Lite +   275000  2014   \n",
       "2056           Ford            Figo Duratec Petrol ZXI 1.2   240000  2013   \n",
       "2057            BMW  5-Series 520d Luxury Line [2017-2019]  4290000  2018   \n",
       "2058       Mahindra      Bolero Power Plus ZLX [2016-2019]   670000  2017   \n",
       "\n",
       "      Kilometer Fuel Type Transmission    Location   Color   Owner  \\\n",
       "0         87150    Petrol       Manual        Pune    Grey   First   \n",
       "1         75000    Diesel       Manual    Ludhiana   White  Second   \n",
       "2         67000    Petrol       Manual     Lucknow  Maroon   First   \n",
       "3         37500    Petrol       Manual   Mangalore     Red   First   \n",
       "4         69000    Diesel       Manual      Mumbai    Grey   First   \n",
       "...         ...       ...          ...         ...     ...     ...   \n",
       "2054      90300    Diesel       Manual       Surat   White   First   \n",
       "2055      83000    Petrol       Manual   Ahmedabad   White  Second   \n",
       "2056      73000    Petrol       Manual       Thane  Silver   First   \n",
       "2057      60474    Diesel    Automatic  Coimbatore   White   First   \n",
       "2058      72000    Diesel       Manual    Guwahati   White   First   \n",
       "\n",
       "     Seller Type   Engine           Max Power              Max Torque  \\\n",
       "0      Corporate  1198 cc   87 bhp @ 6000 rpm       109 Nm @ 4500 rpm   \n",
       "1     Individual  1248 cc   74 bhp @ 4000 rpm       190 Nm @ 2000 rpm   \n",
       "2     Individual  1197 cc   79 bhp @ 6000 rpm  112.7619 Nm @ 4000 rpm   \n",
       "3     Individual  1197 cc   82 bhp @ 6000 rpm       113 Nm @ 4200 rpm   \n",
       "4     Individual  2393 cc  148 bhp @ 3400 rpm       343 Nm @ 1400 rpm   \n",
       "...          ...      ...                 ...                     ...   \n",
       "2054  Individual  2179 cc  138 bhp @ 3750 rpm       330 Nm @ 1600 rpm   \n",
       "2055  Individual   814 cc   55 bhp @ 5500 rpm        75 Nm @ 4000 rpm   \n",
       "2056  Individual  1196 cc   70 bhp @ 6250 rpm       102 Nm @ 4000 rpm   \n",
       "2057  Individual  1995 cc  188 bhp @ 4000 rpm       400 Nm @ 1750 rpm   \n",
       "2058  Individual  1493 cc   70 bhp @ 3600 rpm       195 Nm @ 1400 rpm   \n",
       "\n",
       "     Drivetrain  Length   Width  Height  Seating Capacity  Fuel Tank Capacity  \n",
       "0           FWD  3990.0  1680.0  1505.0               5.0                35.0  \n",
       "1           FWD  3995.0  1695.0  1555.0               5.0                42.0  \n",
       "2           FWD  3585.0  1595.0  1550.0               5.0                35.0  \n",
       "3           FWD  3995.0  1745.0  1510.0               5.0                37.0  \n",
       "4           RWD  4735.0  1830.0  1795.0               7.0                55.0  \n",
       "...         ...     ...     ...     ...               ...                 ...  \n",
       "2054        FWD  4585.0  1890.0  1785.0               7.0                70.0  \n",
       "2055        FWD  3495.0  1550.0  1500.0               5.0                32.0  \n",
       "2056        FWD  3795.0  1680.0  1427.0               5.0                45.0  \n",
       "2057        RWD  4936.0  1868.0  1479.0               5.0                65.0  \n",
       "2058        RWD  3995.0  1745.0  1880.0               7.0                 NaN  \n",
       "\n",
       "[2059 rows x 20 columns]"
      ]
     },
     "execution_count": 2,
     "metadata": {},
     "output_type": "execute_result"
    }
   ],
   "source": [
    "data=pd.read_csv('car details v4.csv')\n",
    "data"
   ]
  },
  {
   "cell_type": "code",
   "execution_count": 3,
   "id": "f3c33b84",
   "metadata": {},
   "outputs": [
    {
     "data": {
      "text/plain": [
       "0"
      ]
     },
     "execution_count": 3,
     "metadata": {},
     "output_type": "execute_result"
    }
   ],
   "source": [
    "data.duplicated().sum()"
   ]
  },
  {
   "cell_type": "code",
   "execution_count": 4,
   "id": "f8fd70c3",
   "metadata": {},
   "outputs": [
    {
     "data": {
      "text/plain": [
       "Make                    0\n",
       "Model                   0\n",
       "Price                   0\n",
       "Year                    0\n",
       "Kilometer               0\n",
       "Fuel Type               0\n",
       "Transmission            0\n",
       "Location                0\n",
       "Color                   0\n",
       "Owner                   0\n",
       "Seller Type             0\n",
       "Engine                 80\n",
       "Max Power              80\n",
       "Max Torque             80\n",
       "Drivetrain            136\n",
       "Length                 64\n",
       "Width                  64\n",
       "Height                 64\n",
       "Seating Capacity       64\n",
       "Fuel Tank Capacity    113\n",
       "dtype: int64"
      ]
     },
     "execution_count": 4,
     "metadata": {},
     "output_type": "execute_result"
    }
   ],
   "source": [
    "data.isnull().sum()"
   ]
  },
  {
   "cell_type": "code",
   "execution_count": 5,
   "id": "07bb7c2b",
   "metadata": {},
   "outputs": [
    {
     "data": {
      "text/plain": [
       "Make                   object\n",
       "Model                  object\n",
       "Price                   int64\n",
       "Year                    int64\n",
       "Kilometer               int64\n",
       "Fuel Type              object\n",
       "Transmission           object\n",
       "Location               object\n",
       "Color                  object\n",
       "Owner                  object\n",
       "Seller Type            object\n",
       "Engine                 object\n",
       "Max Power              object\n",
       "Max Torque             object\n",
       "Drivetrain             object\n",
       "Length                float64\n",
       "Width                 float64\n",
       "Height                float64\n",
       "Seating Capacity      float64\n",
       "Fuel Tank Capacity    float64\n",
       "dtype: object"
      ]
     },
     "execution_count": 5,
     "metadata": {},
     "output_type": "execute_result"
    }
   ],
   "source": [
    "data.dtypes"
   ]
  },
  {
   "cell_type": "code",
   "execution_count": 6,
   "id": "3e2bc40f",
   "metadata": {},
   "outputs": [
    {
     "data": {
      "text/plain": [
       "Index(['Make', 'Model', 'Price', 'Year', 'Kilometer', 'Fuel Type',\n",
       "       'Transmission', 'Location', 'Color', 'Owner', 'Seller Type', 'Engine',\n",
       "       'Max Power', 'Max Torque', 'Drivetrain', 'Length', 'Width', 'Height',\n",
       "       'Seating Capacity', 'Fuel Tank Capacity'],\n",
       "      dtype='object')"
      ]
     },
     "execution_count": 6,
     "metadata": {},
     "output_type": "execute_result"
    }
   ],
   "source": [
    "data.columns"
   ]
  },
  {
   "cell_type": "code",
   "execution_count": 7,
   "id": "400f7848",
   "metadata": {},
   "outputs": [
    {
     "data": {
      "text/plain": [
       "Engine\n",
       "1197 cc    231\n",
       "1248 cc    122\n",
       "998 cc     121\n",
       "1497 cc     84\n",
       "1968 cc     82\n",
       "          ... \n",
       "1948 cc      1\n",
       "4806 cc      1\n",
       "3496 cc      1\n",
       "2609 cc      1\n",
       "995 cc       1\n",
       "Name: count, Length: 108, dtype: int64"
      ]
     },
     "execution_count": 7,
     "metadata": {},
     "output_type": "execute_result"
    }
   ],
   "source": [
    "data['Engine'].value_counts()"
   ]
  },
  {
   "cell_type": "code",
   "execution_count": 8,
   "id": "9542b724",
   "metadata": {},
   "outputs": [],
   "source": [
    "data['Engine']=data['Engine'].fillna('1197 cc')"
   ]
  },
  {
   "cell_type": "code",
   "execution_count": 9,
   "id": "7bb81f53",
   "metadata": {},
   "outputs": [
    {
     "data": {
      "text/plain": [
       "Max Power\n",
       "89 bhp @ 4000 rpm     90\n",
       "82 bhp @ 6000 rpm     62\n",
       "83 bhp @ 6000 rpm     55\n",
       "126 bhp @ 4000 rpm    55\n",
       "74 bhp @ 4000 rpm     50\n",
       "                      ..\n",
       "204 bhp @ 3800 rpm     1\n",
       "157 bhp @ 6500 rpm     1\n",
       "255 bhp @ 3600 rpm     1\n",
       "76 bhp @ 6000 rpm      1\n",
       "329 bhp @ 5250 rpm     1\n",
       "Name: count, Length: 335, dtype: int64"
      ]
     },
     "execution_count": 9,
     "metadata": {},
     "output_type": "execute_result"
    }
   ],
   "source": [
    "data['Max Power'].value_counts()"
   ]
  },
  {
   "cell_type": "code",
   "execution_count": 10,
   "id": "1b6d1a8f",
   "metadata": {},
   "outputs": [],
   "source": [
    "data['Max Power']=data['Max Power'].fillna('89 bhp @ 4000 rpm')"
   ]
  },
  {
   "cell_type": "code",
   "execution_count": 11,
   "id": "01c7e1ec",
   "metadata": {},
   "outputs": [
    {
     "data": {
      "text/plain": [
       "Max Torque\n",
       "200 Nm @ 1750 rpm    90\n",
       "115 Nm @ 4000 rpm    78\n",
       "114 Nm @ 4000 rpm    66\n",
       "90 Nm @ 3500 rpm     64\n",
       "400 Nm @ 1750 rpm    63\n",
       "                     ..\n",
       "505 Nm @ 4400 rpm     1\n",
       "290@1800              1\n",
       "380 Nm @ 2500 rpm     1\n",
       "560 Nm @ 6500 rpm     1\n",
       "480 Nm @ 1600 rpm     1\n",
       "Name: count, Length: 290, dtype: int64"
      ]
     },
     "execution_count": 11,
     "metadata": {},
     "output_type": "execute_result"
    }
   ],
   "source": [
    "data['Max Torque'].value_counts()"
   ]
  },
  {
   "cell_type": "code",
   "execution_count": 12,
   "id": "c82114fb",
   "metadata": {},
   "outputs": [],
   "source": [
    "data['Max Torque']=data['Max Torque'].fillna('200 Nm @ 1750 rpm')"
   ]
  },
  {
   "cell_type": "code",
   "execution_count": 13,
   "id": "ae2af917",
   "metadata": {},
   "outputs": [
    {
     "data": {
      "text/plain": [
       "Drivetrain\n",
       "FWD    1330\n",
       "RWD     321\n",
       "AWD     272\n",
       "Name: count, dtype: int64"
      ]
     },
     "execution_count": 13,
     "metadata": {},
     "output_type": "execute_result"
    }
   ],
   "source": [
    "data['Drivetrain'].value_counts()"
   ]
  },
  {
   "cell_type": "code",
   "execution_count": 14,
   "id": "b5e820a8",
   "metadata": {},
   "outputs": [],
   "source": [
    "data['Drivetrain']=data['Drivetrain'].fillna('FWD')"
   ]
  },
  {
   "cell_type": "code",
   "execution_count": 15,
   "id": "af4d7972",
   "metadata": {},
   "outputs": [],
   "source": [
    "imputer1=SimpleImputer()\n",
    "data['Length']=imputer1.fit_transform(data[['Length']])\n",
    "\n",
    "imputer2=SimpleImputer()\n",
    "data['Width']=imputer2.fit_transform(data[['Width']])\n",
    "\n",
    "imputer3=SimpleImputer()\n",
    "data['Height']=imputer3.fit_transform(data[['Height']])\n",
    "\n",
    "imputer4=SimpleImputer()\n",
    "data['Seating Capacity']=imputer4.fit_transform(data[['Seating Capacity']])\n",
    "\n",
    "imputer5=SimpleImputer()\n",
    "data['Fuel Tank Capacity']=imputer5.fit_transform(data[['Fuel Tank Capacity']])"
   ]
  },
  {
   "cell_type": "code",
   "execution_count": 16,
   "id": "eaf008ed",
   "metadata": {},
   "outputs": [
    {
     "data": {
      "text/plain": [
       "Make                  0\n",
       "Model                 0\n",
       "Price                 0\n",
       "Year                  0\n",
       "Kilometer             0\n",
       "Fuel Type             0\n",
       "Transmission          0\n",
       "Location              0\n",
       "Color                 0\n",
       "Owner                 0\n",
       "Seller Type           0\n",
       "Engine                0\n",
       "Max Power             0\n",
       "Max Torque            0\n",
       "Drivetrain            0\n",
       "Length                0\n",
       "Width                 0\n",
       "Height                0\n",
       "Seating Capacity      0\n",
       "Fuel Tank Capacity    0\n",
       "dtype: int64"
      ]
     },
     "execution_count": 16,
     "metadata": {},
     "output_type": "execute_result"
    }
   ],
   "source": [
    "data.isnull().sum()"
   ]
  },
  {
   "cell_type": "code",
   "execution_count": 17,
   "id": "d73d4713",
   "metadata": {},
   "outputs": [
    {
     "data": {
      "text/plain": [
       "Make                   object\n",
       "Model                  object\n",
       "Price                   int64\n",
       "Year                    int64\n",
       "Kilometer               int64\n",
       "Fuel Type              object\n",
       "Transmission           object\n",
       "Location               object\n",
       "Color                  object\n",
       "Owner                  object\n",
       "Seller Type            object\n",
       "Engine                 object\n",
       "Max Power              object\n",
       "Max Torque             object\n",
       "Drivetrain             object\n",
       "Length                float64\n",
       "Width                 float64\n",
       "Height                float64\n",
       "Seating Capacity      float64\n",
       "Fuel Tank Capacity    float64\n",
       "dtype: object"
      ]
     },
     "execution_count": 17,
     "metadata": {},
     "output_type": "execute_result"
    }
   ],
   "source": [
    "data.dtypes"
   ]
  },
  {
   "cell_type": "code",
   "execution_count": 18,
   "id": "53b6f9b6",
   "metadata": {},
   "outputs": [],
   "source": [
    "Make=LabelEncoder()\n",
    "data['Make']=Make.fit_transform(data['Make'])\n",
    "\n",
    "Model=LabelEncoder()\n",
    "data['Model']=Model.fit_transform(data['Model'])\n",
    "\n",
    "FuelType=LabelEncoder()\n",
    "data['Fuel Type']=FuelType.fit_transform(data['Fuel Type'])\n",
    "\n",
    "Transmission=LabelEncoder()\n",
    "data['Transmission']=Transmission.fit_transform(data['Transmission'])\n",
    "\n",
    "Location=LabelEncoder()\n",
    "data['Location']=Location.fit_transform(data['Location'])\n",
    "\n",
    "Color=LabelEncoder()\n",
    "data['Color']=Color.fit_transform(data['Color'])\n",
    "\n",
    "Owner=LabelEncoder()\n",
    "data['Owner']=Owner.fit_transform(data['Owner'])\n",
    "\n",
    "SellerType=LabelEncoder()\n",
    "data['Seller Type']=SellerType.fit_transform(data['Seller Type'])\n",
    "\n",
    "Engine=LabelEncoder()\n",
    "data['Engine']=Engine.fit_transform(data['Engine'])\n",
    "\n",
    "MaxPower=LabelEncoder()\n",
    "data['Max Power']=MaxPower.fit_transform(data['Max Power'])\n",
    "\n",
    "MaxTorque=LabelEncoder()\n",
    "data['Max Torque']=MaxTorque.fit_transform(data['Max Torque'])\n",
    "\n",
    "Drivetrain=LabelEncoder()\n",
    "data['Drivetrain']=Drivetrain.fit_transform(data['Drivetrain'])"
   ]
  },
  {
   "cell_type": "code",
   "execution_count": 19,
   "id": "04b8d993",
   "metadata": {},
   "outputs": [
    {
     "data": {
      "text/plain": [
       "Make                    int32\n",
       "Model                   int32\n",
       "Price                   int64\n",
       "Year                    int64\n",
       "Kilometer               int64\n",
       "Fuel Type               int32\n",
       "Transmission            int32\n",
       "Location                int32\n",
       "Color                   int32\n",
       "Owner                   int32\n",
       "Seller Type             int32\n",
       "Engine                  int32\n",
       "Max Power               int32\n",
       "Max Torque              int32\n",
       "Drivetrain              int32\n",
       "Length                float64\n",
       "Width                 float64\n",
       "Height                float64\n",
       "Seating Capacity      float64\n",
       "Fuel Tank Capacity    float64\n",
       "dtype: object"
      ]
     },
     "execution_count": 19,
     "metadata": {},
     "output_type": "execute_result"
    }
   ],
   "source": [
    "data.dtypes"
   ]
  },
  {
   "cell_type": "code",
   "execution_count": 20,
   "id": "ecbc3092",
   "metadata": {},
   "outputs": [
    {
     "data": {
      "text/plain": [
       "{'whiskers': [<matplotlib.lines.Line2D at 0x1b7bf7e8150>,\n",
       "  <matplotlib.lines.Line2D at 0x1b7bf7c7b50>],\n",
       " 'caps': [<matplotlib.lines.Line2D at 0x1b7bf7e9390>,\n",
       "  <matplotlib.lines.Line2D at 0x1b7bf7e9e10>],\n",
       " 'boxes': [<matplotlib.lines.Line2D at 0x1b7bf743050>],\n",
       " 'medians': [<matplotlib.lines.Line2D at 0x1b7bf7ea7d0>],\n",
       " 'fliers': [<matplotlib.lines.Line2D at 0x1b7bf7eb050>],\n",
       " 'means': []}"
      ]
     },
     "execution_count": 20,
     "metadata": {},
     "output_type": "execute_result"
    },
    {
     "data": {
      "image/png": "[encoded data removed]",
      "text/plain": [
       "<Figure size 640x480 with 1 Axes>"
      ]
     },
     "metadata": {},
     "output_type": "display_data"
    }
   ],
   "source": [
    "plt.boxplot(data['Make'])"
   ]
  },
  {
   "cell_type": "code",
   "execution_count": 21,
   "id": "c0029002",
   "metadata": {},
   "outputs": [
    {
     "data": {
      "text/plain": [
       "{'whiskers': [<matplotlib.lines.Line2D at 0x1b7bf8a7e50>,\n",
       "  <matplotlib.lines.Line2D at 0x1b7bf8b0b90>],\n",
       " 'caps': [<matplotlib.lines.Line2D at 0x1b7bf8b16d0>,\n",
       "  <matplotlib.lines.Line2D at 0x1b7bf8b2150>],\n",
       " 'boxes': [<matplotlib.lines.Line2D at 0x1b7bf8a7290>],\n",
       " 'medians': [<matplotlib.lines.Line2D at 0x1b7bf8b2c50>],\n",
       " 'fliers': [<matplotlib.lines.Line2D at 0x1b7bf8b3610>],\n",
       " 'means': []}"
      ]
     },
     "execution_count": 21,
     "metadata": {},
     "output_type": "execute_result"
    },
    {
     "data": {
      "image/png": "[encoded data removed]",
      "text/plain": [
       "<Figure size 640x480 with 1 Axes>"
      ]
     },
     "metadata": {},
     "output_type": "display_data"
    }
   ],
   "source": [
    "plt.boxplot(data['Model'])"
   ]
  },
  {
   "cell_type": "code",
   "execution_count": 22,
   "id": "6179e124",
   "metadata": {},
   "outputs": [
    {
     "data": {
      "text/plain": [
       "{'whiskers': [<matplotlib.lines.Line2D at 0x1b7bf914d10>,\n",
       "  <matplotlib.lines.Line2D at 0x1b7bf915810>],\n",
       " 'caps': [<matplotlib.lines.Line2D at 0x1b7beece410>,\n",
       "  <matplotlib.lines.Line2D at 0x1b7bf917050>],\n",
       " 'boxes': [<matplotlib.lines.Line2D at 0x1b7bf914110>],\n",
       " 'medians': [<matplotlib.lines.Line2D at 0x1b7bf917b90>],\n",
       " 'fliers': [<matplotlib.lines.Line2D at 0x1b7bf907ed0>],\n",
       " 'means': []}"
      ]
     },
     "execution_count": 22,
     "metadata": {},
     "output_type": "execute_result"
    },
    {
     "data": {
      "image/png": "[encoded data removed]",
      "text/plain": [
       "<Figure size 640x480 with 1 Axes>"
      ]
     },
     "metadata": {},
     "output_type": "display_data"
    }
   ],
   "source": [
    "plt.boxplot(data['Year'])"
   ]
  },
  {
   "cell_type": "code",
   "execution_count": 23,
   "id": "64591be2",
   "metadata": {},
   "outputs": [
    {
     "data": {
      "text/plain": [
       "{'whiskers': [<matplotlib.lines.Line2D at 0x1b7b94e2790>,\n",
       "  <matplotlib.lines.Line2D at 0x1b7b94e34d0>],\n",
       " 'caps': [<matplotlib.lines.Line2D at 0x1b7b94ec190>,\n",
       "  <matplotlib.lines.Line2D at 0x1b7b94ecc90>],\n",
       " 'boxes': [<matplotlib.lines.Line2D at 0x1b7bf7801d0>],\n",
       " 'medians': [<matplotlib.lines.Line2D at 0x1b7b94ed790>],\n",
       " 'fliers': [<matplotlib.lines.Line2D at 0x1b7bf8caa50>],\n",
       " 'means': []}"
      ]
     },
     "execution_count": 23,
     "metadata": {},
     "output_type": "execute_result"
    },
    {
     "data": {
      "image/png": "[encoded data removed]",
      "text/plain": [
       "<Figure size 640x480 with 1 Axes>"
      ]
     },
     "metadata": {},
     "output_type": "display_data"
    }
   ],
   "source": [
    "plt.boxplot(data['Kilometer'])"
   ]
  },
  {
   "cell_type": "code",
   "execution_count": 24,
   "id": "cb65d742",
   "metadata": {},
   "outputs": [],
   "source": [
    "Q1=data.Kilometer.quantile(0.25)\n",
    "Q3=data.Kilometer.quantile(0.75)\n",
    "IQR=Q3-Q1\n",
    "\n",
    "lower=Q1-1.5*IQR\n",
    "upper=Q3+1.5*IQR\n",
    "\n",
    "upper_index=np.where(data['Kilometer']>=upper)[0]\n",
    "lower_index=np.where(data['Kilometer']<=lower)[0]\n",
    "\n",
    "data.drop(index=upper_index,inplace=True)\n",
    "data.drop(index=lower_index,inplace=True)"
   ]
  },
  {
   "cell_type": "code",
   "execution_count": 25,
   "id": "4da9d766",
   "metadata": {},
   "outputs": [
    {
     "data": {
      "text/plain": [
       "{'whiskers': [<matplotlib.lines.Line2D at 0x1b7b9555890>,\n",
       "  <matplotlib.lines.Line2D at 0x1b7b95564d0>],\n",
       " 'caps': [<matplotlib.lines.Line2D at 0x1b7b9556f90>,\n",
       "  <matplotlib.lines.Line2D at 0x1b7b95579d0>],\n",
       " 'boxes': [<matplotlib.lines.Line2D at 0x1b7b951f0d0>],\n",
       " 'medians': [<matplotlib.lines.Line2D at 0x1b7b9560510>],\n",
       " 'fliers': [<matplotlib.lines.Line2D at 0x1b7b9560f10>],\n",
       " 'means': []}"
      ]
     },
     "execution_count": 25,
     "metadata": {},
     "output_type": "execute_result"
    },
    {
     "data": {
      "image/png": "[encoded data removed]",
      "text/plain": [
       "<Figure size 640x480 with 1 Axes>"
      ]
     },
     "metadata": {},
     "output_type": "display_data"
    }
   ],
   "source": [
    "plt.boxplot(data['Fuel Type'])"
   ]
  },
  {
   "cell_type": "code",
   "execution_count": 26,
   "id": "2a460764",
   "metadata": {},
   "outputs": [
    {
     "data": {
      "text/plain": [
       "{'whiskers': [<matplotlib.lines.Line2D at 0x1b7c0a62390>,\n",
       "  <matplotlib.lines.Line2D at 0x1b7c0a77d90>],\n",
       " 'caps': [<matplotlib.lines.Line2D at 0x1b7c0a80950>,\n",
       "  <matplotlib.lines.Line2D at 0x1b7c0a813d0>],\n",
       " 'boxes': [<matplotlib.lines.Line2D at 0x1b7c0a766d0>],\n",
       " 'medians': [<matplotlib.lines.Line2D at 0x1b7c0a81d50>],\n",
       " 'fliers': [<matplotlib.lines.Line2D at 0x1b7c0a54610>],\n",
       " 'means': []}"
      ]
     },
     "execution_count": 26,
     "metadata": {},
     "output_type": "execute_result"
    },
    {
     "data": {
      "image/png": "[encoded data removed]",
      "text/plain": [
       "<Figure size 640x480 with 1 Axes>"
      ]
     },
     "metadata": {},
     "output_type": "display_data"
    }
   ],
   "source": [
    "plt.boxplot(data['Transmission'])"
   ]
  },
  {
   "cell_type": "code",
   "execution_count": 27,
   "id": "ff52f9cf",
   "metadata": {},
   "outputs": [
    {
     "data": {
      "text/plain": [
       "{'whiskers': [<matplotlib.lines.Line2D at 0x1b7c0ad2c50>,\n",
       "  <matplotlib.lines.Line2D at 0x1b7c0ad3850>],\n",
       " 'caps': [<matplotlib.lines.Line2D at 0x1b7c0adc410>,\n",
       "  <matplotlib.lines.Line2D at 0x1b7c0adced0>],\n",
       " 'boxes': [<matplotlib.lines.Line2D at 0x1b7c0ad2150>],\n",
       " 'medians': [<matplotlib.lines.Line2D at 0x1b7c0add9d0>],\n",
       " 'fliers': [<matplotlib.lines.Line2D at 0x1b7c0ad3710>],\n",
       " 'means': []}"
      ]
     },
     "execution_count": 27,
     "metadata": {},
     "output_type": "execute_result"
    },
    {
     "data": {
      "image/png": "[encoded data removed]",
      "text/plain": [
       "<Figure size 640x480 with 1 Axes>"
      ]
     },
     "metadata": {},
     "output_type": "display_data"
    }
   ],
   "source": [
    "plt.boxplot(data['Location'])"
   ]
  },
  {
   "cell_type": "code",
   "execution_count": 28,
   "id": "59f34f72",
   "metadata": {},
   "outputs": [
    {
     "data": {
      "text/plain": [
       "{'whiskers': [<matplotlib.lines.Line2D at 0x1b7bf94ced0>,\n",
       "  <matplotlib.lines.Line2D at 0x1b7bf94db50>],\n",
       " 'caps': [<matplotlib.lines.Line2D at 0x1b7bf94e610>,\n",
       "  <matplotlib.lines.Line2D at 0x1b7bf94f010>],\n",
       " 'boxes': [<matplotlib.lines.Line2D at 0x1b7bf94c250>],\n",
       " 'medians': [<matplotlib.lines.Line2D at 0x1b7bf94f910>],\n",
       " 'fliers': [<matplotlib.lines.Line2D at 0x1b7c0b1f850>],\n",
       " 'means': []}"
      ]
     },
     "execution_count": 28,
     "metadata": {},
     "output_type": "execute_result"
    },
    {
     "data": {
      "image/png": "[encoded data removed]",
      "text/plain": [
       "<Figure size 640x480 with 1 Axes>"
      ]
     },
     "metadata": {},
     "output_type": "display_data"
    }
   ],
   "source": [
    "plt.boxplot(data['Color'])"
   ]
  },
  {
   "cell_type": "code",
   "execution_count": 29,
   "id": "074990e9",
   "metadata": {},
   "outputs": [
    {
     "data": {
      "text/plain": [
       "{'whiskers': [<matplotlib.lines.Line2D at 0x1b7bf9b5b10>,\n",
       "  <matplotlib.lines.Line2D at 0x1b7bf9b6750>],\n",
       " 'caps': [<matplotlib.lines.Line2D at 0x1b7bf9b7190>,\n",
       "  <matplotlib.lines.Line2D at 0x1b7bf9b7c90>],\n",
       " 'boxes': [<matplotlib.lines.Line2D at 0x1b7bf9b4f50>],\n",
       " 'medians': [<matplotlib.lines.Line2D at 0x1b7bf9bc750>],\n",
       " 'fliers': [<matplotlib.lines.Line2D at 0x1b7bf9bc590>],\n",
       " 'means': []}"
      ]
     },
     "execution_count": 29,
     "metadata": {},
     "output_type": "execute_result"
    },
    {
     "data": {
      "image/png": "[encoded data removed]",
      "text/plain": [
       "<Figure size 640x480 with 1 Axes>"
      ]
     },
     "metadata": {},
     "output_type": "display_data"
    }
   ],
   "source": [
    "plt.boxplot(data['Owner'])"
   ]
  },
  {
   "cell_type": "code",
   "execution_count": 30,
   "id": "ee0ca6d6",
   "metadata": {},
   "outputs": [
    {
     "data": {
      "text/plain": [
       "{'whiskers': [<matplotlib.lines.Line2D at 0x1b7c0b30710>,\n",
       "  <matplotlib.lines.Line2D at 0x1b7c0b31310>],\n",
       " 'caps': [<matplotlib.lines.Line2D at 0x1b7c0b31e10>,\n",
       "  <matplotlib.lines.Line2D at 0x1b7c0b32910>],\n",
       " 'boxes': [<matplotlib.lines.Line2D at 0x1b7bfa13910>],\n",
       " 'medians': [<matplotlib.lines.Line2D at 0x1b7c0b33310>],\n",
       " 'fliers': [<matplotlib.lines.Line2D at 0x1b7bf9d3e10>],\n",
       " 'means': []}"
      ]
     },
     "execution_count": 30,
     "metadata": {},
     "output_type": "execute_result"
    },
    {
     "data": {
      "image/png": "[encoded data removed]",
      "text/plain": [
       "<Figure size 640x480 with 1 Axes>"
      ]
     },
     "metadata": {},
     "output_type": "display_data"
    }
   ],
   "source": [
    "plt.boxplot(data['Seller Type'])"
   ]
  },
  {
   "cell_type": "code",
   "execution_count": 31,
   "id": "78c6ed4e",
   "metadata": {},
   "outputs": [
    {
     "data": {
      "text/plain": [
       "{'whiskers': [<matplotlib.lines.Line2D at 0x1b7c0b9d790>,\n",
       "  <matplotlib.lines.Line2D at 0x1b7c0b9e450>],\n",
       " 'caps': [<matplotlib.lines.Line2D at 0x1b7c0b9eed0>,\n",
       "  <matplotlib.lines.Line2D at 0x1b7c0b9fad0>],\n",
       " 'boxes': [<matplotlib.lines.Line2D at 0x1b7c0b90890>],\n",
       " 'medians': [<matplotlib.lines.Line2D at 0x1b7c0bb0590>],\n",
       " 'fliers': [<matplotlib.lines.Line2D at 0x1b7bf8e2c50>],\n",
       " 'means': []}"
      ]
     },
     "execution_count": 31,
     "metadata": {},
     "output_type": "execute_result"
    },
    {
     "data": {
      "image/png": "[encoded data removed]",
      "text/plain": [
       "<Figure size 640x480 with 1 Axes>"
      ]
     },
     "metadata": {},
     "output_type": "display_data"
    }
   ],
   "source": [
    "plt.boxplot(data['Engine'])"
   ]
  },
  {
   "cell_type": "code",
   "execution_count": 32,
   "id": "5615337d",
   "metadata": {},
   "outputs": [
    {
     "data": {
      "text/plain": [
       "{'whiskers': [<matplotlib.lines.Line2D at 0x1b7c0c00310>,\n",
       "  <matplotlib.lines.Line2D at 0x1b7c0c00f50>],\n",
       " 'caps': [<matplotlib.lines.Line2D at 0x1b7c0c019d0>,\n",
       "  <matplotlib.lines.Line2D at 0x1b7c0c02510>],\n",
       " 'boxes': [<matplotlib.lines.Line2D at 0x1b7c0bf7690>],\n",
       " 'medians': [<matplotlib.lines.Line2D at 0x1b7c0c02f90>],\n",
       " 'fliers': [<matplotlib.lines.Line2D at 0x1b7c0c039d0>],\n",
       " 'means': []}"
      ]
     },
     "execution_count": 32,
     "metadata": {},
     "output_type": "execute_result"
    },
    {
     "data": {
      "image/png": "[encoded data removed]",
      "text/plain": [
       "<Figure size 640x480 with 1 Axes>"
      ]
     },
     "metadata": {},
     "output_type": "display_data"
    }
   ],
   "source": [
    "plt.boxplot(data['Max Power'])"
   ]
  },
  {
   "cell_type": "code",
   "execution_count": 33,
   "id": "e23db987",
   "metadata": {},
   "outputs": [
    {
     "data": {
      "text/plain": [
       "{'whiskers': [<matplotlib.lines.Line2D at 0x1b7c0db38d0>,\n",
       "  <matplotlib.lines.Line2D at 0x1b7c0dc04d0>],\n",
       " 'caps': [<matplotlib.lines.Line2D at 0x1b7c0dc1090>,\n",
       "  <matplotlib.lines.Line2D at 0x1b7c0dc1a50>],\n",
       " 'boxes': [<matplotlib.lines.Line2D at 0x1b7c0db2d50>],\n",
       " 'medians': [<matplotlib.lines.Line2D at 0x1b7c0dc2590>],\n",
       " 'fliers': [<matplotlib.lines.Line2D at 0x1b7c0dc3010>],\n",
       " 'means': []}"
      ]
     },
     "execution_count": 33,
     "metadata": {},
     "output_type": "execute_result"
    },
    {
     "data": {
      "image/png": "[encoded data removed]",
      "text/plain": [
       "<Figure size 640x480 with 1 Axes>"
      ]
     },
     "metadata": {},
     "output_type": "display_data"
    }
   ],
   "source": [
    "plt.boxplot(data['Max Torque'])"
   ]
  },
  {
   "cell_type": "code",
   "execution_count": 34,
   "id": "7e450309",
   "metadata": {},
   "outputs": [
    {
     "data": {
      "text/plain": [
       "{'whiskers': [<matplotlib.lines.Line2D at 0x1b7c0e24290>,\n",
       "  <matplotlib.lines.Line2D at 0x1b7c0e24e10>],\n",
       " 'caps': [<matplotlib.lines.Line2D at 0x1b7c0e25890>,\n",
       "  <matplotlib.lines.Line2D at 0x1b7c0e26410>],\n",
       " 'boxes': [<matplotlib.lines.Line2D at 0x1b7c0e17650>],\n",
       " 'medians': [<matplotlib.lines.Line2D at 0x1b7c0e26e90>],\n",
       " 'fliers': [<matplotlib.lines.Line2D at 0x1b7c0e27990>],\n",
       " 'means': []}"
      ]
     },
     "execution_count": 34,
     "metadata": {},
     "output_type": "execute_result"
    },
    {
     "data": {
      "image/png": "[encoded data removed]",
      "text/plain": [
       "<Figure size 640x480 with 1 Axes>"
      ]
     },
     "metadata": {},
     "output_type": "display_data"
    }
   ],
   "source": [
    "plt.boxplot(data['Drivetrain'])"
   ]
  },
  {
   "cell_type": "code",
   "execution_count": 35,
   "id": "30eb8653",
   "metadata": {},
   "outputs": [
    {
     "data": {
      "text/plain": [
       "{'whiskers': [<matplotlib.lines.Line2D at 0x1b7c0c58c10>,\n",
       "  <matplotlib.lines.Line2D at 0x1b7c0c596d0>],\n",
       " 'caps': [<matplotlib.lines.Line2D at 0x1b7c0c5a290>,\n",
       "  <matplotlib.lines.Line2D at 0x1b7c0c3fa90>],\n",
       " 'boxes': [<matplotlib.lines.Line2D at 0x1b7c0c4ffd0>],\n",
       " 'medians': [<matplotlib.lines.Line2D at 0x1b7c0c5b6d0>],\n",
       " 'fliers': [<matplotlib.lines.Line2D at 0x1b7c0c60150>],\n",
       " 'means': []}"
      ]
     },
     "execution_count": 35,
     "metadata": {},
     "output_type": "execute_result"
    },
    {
     "data": {
      "image/png": "[encoded data removed]",
      "text/plain": [
       "<Figure size 640x480 with 1 Axes>"
      ]
     },
     "metadata": {},
     "output_type": "display_data"
    }
   ],
   "source": [
    "plt.boxplot(data['Length'])"
   ]
  },
  {
   "cell_type": "code",
   "execution_count": 36,
   "id": "4b97c3ce",
   "metadata": {},
   "outputs": [
    {
     "data": {
      "text/plain": [
       "{'whiskers': [<matplotlib.lines.Line2D at 0x1b7c0cc0390>,\n",
       "  <matplotlib.lines.Line2D at 0x1b7c0cc1010>],\n",
       " 'caps': [<matplotlib.lines.Line2D at 0x1b7c0ca6e10>,\n",
       "  <matplotlib.lines.Line2D at 0x1b7c0e2fed0>],\n",
       " 'boxes': [<matplotlib.lines.Line2D at 0x1b7c0cb7690>],\n",
       " 'medians': [<matplotlib.lines.Line2D at 0x1b7c0cc2310>],\n",
       " 'fliers': [<matplotlib.lines.Line2D at 0x1b7c0cc2e90>],\n",
       " 'means': []}"
      ]
     },
     "execution_count": 36,
     "metadata": {},
     "output_type": "execute_result"
    },
    {
     "data": {
      "image/png": "[encoded data removed]",
      "text/plain": [
       "<Figure size 640x480 with 1 Axes>"
      ]
     },
     "metadata": {},
     "output_type": "display_data"
    }
   ],
   "source": [
    "plt.boxplot(data['Width'])"
   ]
  },
  {
   "cell_type": "code",
   "execution_count": 37,
   "id": "ec8aab9c",
   "metadata": {},
   "outputs": [],
   "source": [
    "data.reset_index(inplace=True)"
   ]
  },
  {
   "cell_type": "code",
   "execution_count": 38,
   "id": "36178b76",
   "metadata": {},
   "outputs": [],
   "source": [
    "data=data.drop('index',axis=1)"
   ]
  },
  {
   "cell_type": "code",
   "execution_count": 39,
   "id": "cadfa964",
   "metadata": {},
   "outputs": [],
   "source": [
    "Q1=data.Width.quantile(0.25)\n",
    "Q3=data.Width.quantile(0.75)\n",
    "IQR=Q3-Q1\n",
    "\n",
    "lower=Q1-1.5*IQR\n",
    "upper=Q3+1.5*IQR\n",
    "\n",
    "upper_index=np.where(data['Width']>=upper)[0]\n",
    "lower_index=np.where(data['Width']<=lower)[0]\n",
    "\n",
    "data.drop(index=upper_index,inplace=True)\n",
    "data.drop(index=lower_index,inplace=True)"
   ]
  },
  {
   "cell_type": "code",
   "execution_count": 40,
   "id": "2ae7b577",
   "metadata": {},
   "outputs": [
    {
     "data": {
      "text/plain": [
       "{'whiskers': [<matplotlib.lines.Line2D at 0x1b7c0e75190>,\n",
       "  <matplotlib.lines.Line2D at 0x1b7c0e75e50>],\n",
       " 'caps': [<matplotlib.lines.Line2D at 0x1b7c0e768d0>,\n",
       "  <matplotlib.lines.Line2D at 0x1b7c0e77290>],\n",
       " 'boxes': [<matplotlib.lines.Line2D at 0x1b7c0cb70d0>],\n",
       " 'medians': [<matplotlib.lines.Line2D at 0x1b7c0e77dd0>],\n",
       " 'fliers': [<matplotlib.lines.Line2D at 0x1b7c0e80750>],\n",
       " 'means': []}"
      ]
     },
     "execution_count": 40,
     "metadata": {},
     "output_type": "execute_result"
    },
    {
     "data": {
      "image/png": "[encoded data removed]",
      "text/plain": [
       "<Figure size 640x480 with 1 Axes>"
      ]
     },
     "metadata": {},
     "output_type": "display_data"
    }
   ],
   "source": [
    "plt.boxplot(data['Height'])"
   ]
  },
  {
   "cell_type": "code",
   "execution_count": 41,
   "id": "efed082c",
   "metadata": {},
   "outputs": [],
   "source": [
    "data.reset_index(inplace=True)"
   ]
  },
  {
   "cell_type": "code",
   "execution_count": 42,
   "id": "11415588",
   "metadata": {},
   "outputs": [],
   "source": [
    "data=data.drop('index',axis=1)"
   ]
  },
  {
   "cell_type": "code",
   "execution_count": 43,
   "id": "403c1fe4",
   "metadata": {},
   "outputs": [],
   "source": [
    "Q1=data.Height.quantile(0.25)\n",
    "Q3=data.Height.quantile(0.75)\n",
    "IQR=Q3-Q1\n",
    "\n",
    "lower=Q1-1.5*IQR\n",
    "upper=Q3+1.5*IQR\n",
    "\n",
    "upper_index=np.where(data['Height']>=upper)[0]\n",
    "lower_index=np.where(data['Height']<=lower)[0]\n",
    "\n",
    "data.drop(index=upper_index,inplace=True)\n",
    "data.drop(index=lower_index,inplace=True)"
   ]
  },
  {
   "cell_type": "code",
   "execution_count": 44,
   "id": "c4883f33",
   "metadata": {},
   "outputs": [
    {
     "data": {
      "text/plain": [
       "{'whiskers': [<matplotlib.lines.Line2D at 0x1b7c0dd7890>,\n",
       "  <matplotlib.lines.Line2D at 0x1b7c0ee0790>],\n",
       " 'caps': [<matplotlib.lines.Line2D at 0x1b7c0ee13d0>,\n",
       "  <matplotlib.lines.Line2D at 0x1b7c0ee1e90>],\n",
       " 'boxes': [<matplotlib.lines.Line2D at 0x1b7bec4f0d0>],\n",
       " 'medians': [<matplotlib.lines.Line2D at 0x1b7c0ee2990>],\n",
       " 'fliers': [<matplotlib.lines.Line2D at 0x1b7c0ee33d0>],\n",
       " 'means': []}"
      ]
     },
     "execution_count": 44,
     "metadata": {},
     "output_type": "execute_result"
    },
    {
     "data": {
      "image/png": "[encoded data removed]",
      "text/plain": [
       "<Figure size 640x480 with 1 Axes>"
      ]
     },
     "metadata": {},
     "output_type": "display_data"
    }
   ],
   "source": [
    "plt.boxplot(data['Seating Capacity'])"
   ]
  },
  {
   "cell_type": "code",
   "execution_count": 45,
   "id": "ef2d7f94",
   "metadata": {},
   "outputs": [
    {
     "data": {
      "text/plain": [
       "{'whiskers': [<matplotlib.lines.Line2D at 0x1b7c0f446d0>,\n",
       "  <matplotlib.lines.Line2D at 0x1b7c0f452d0>],\n",
       " 'caps': [<matplotlib.lines.Line2D at 0x1b7c0f45e50>,\n",
       "  <matplotlib.lines.Line2D at 0x1b7c0f46890>],\n",
       " 'boxes': [<matplotlib.lines.Line2D at 0x1b7c0f3f950>],\n",
       " 'medians': [<matplotlib.lines.Line2D at 0x1b7c0f47410>],\n",
       " 'fliers': [<matplotlib.lines.Line2D at 0x1b7c0f44590>],\n",
       " 'means': []}"
      ]
     },
     "execution_count": 45,
     "metadata": {},
     "output_type": "execute_result"
    },
    {
     "data": {
      "image/png": "[encoded data removed]",
      "text/plain": [
       "<Figure size 640x480 with 1 Axes>"
      ]
     },
     "metadata": {},
     "output_type": "display_data"
    }
   ],
   "source": [
    "plt.boxplot(data['Fuel Tank Capacity'])"
   ]
  },
  {
   "cell_type": "code",
   "execution_count": 46,
   "id": "6e65750c",
   "metadata": {},
   "outputs": [],
   "source": [
    "data.reset_index(inplace=True)"
   ]
  },
  {
   "cell_type": "code",
   "execution_count": 47,
   "id": "f7f37ab6",
   "metadata": {},
   "outputs": [],
   "source": [
    "data=data.drop('index',axis=1)"
   ]
  },
  {
   "cell_type": "code",
   "execution_count": 48,
   "id": "5ba3789d",
   "metadata": {},
   "outputs": [],
   "source": [
    "Q1=data['Fuel Tank Capacity'].quantile(0.25)\n",
    "Q3=data['Fuel Tank Capacity'].quantile(0.75)\n",
    "IQR=Q3-Q1\n",
    "\n",
    "lower=Q1-1.5*IQR\n",
    "upper=Q3+1.5*IQR\n",
    "\n",
    "upper_index=np.where(data['Fuel Tank Capacity']>=upper)[0]\n",
    "lower_index=np.where(data['Fuel Tank Capacity']<=lower)[0]\n",
    "\n",
    "data.drop(index=upper_index,inplace=True)\n",
    "data.drop(index=lower_index,inplace=True)"
   ]
  },
  {
   "cell_type": "code",
   "execution_count": 49,
   "id": "b3402564",
   "metadata": {},
   "outputs": [],
   "source": [
    "data.reset_index(inplace=True)"
   ]
  },
  {
   "cell_type": "code",
   "execution_count": 50,
   "id": "74f45a7a",
   "metadata": {},
   "outputs": [],
   "source": [
    "data=data.drop('index',axis=1)"
   ]
  },
  {
   "cell_type": "code",
   "execution_count": 51,
   "id": "df276912",
   "metadata": {},
   "outputs": [
    {
     "data": {
      "text/plain": [
       "(1772, 20)"
      ]
     },
     "execution_count": 51,
     "metadata": {},
     "output_type": "execute_result"
    }
   ],
   "source": [
    "data.shape"
   ]
  },
  {
   "cell_type": "code",
   "execution_count": 52,
   "id": "9ca68efd",
   "metadata": {},
   "outputs": [
    {
     "data": {
      "text/html": [
       "<div>\n",
       "<style scoped>\n",
       "    .dataframe tbody tr th:only-of-type {\n",
       "        vertical-align: middle;\n",
       "    }\n",
       "\n",
       "    .dataframe tbody tr th {\n",
       "        vertical-align: top;\n",
       "    }\n",
       "\n",
       "    .dataframe thead th {\n",
       "        text-align: right;\n",
       "    }\n",
       "</style>\n",
       "<table border=\"1\" class=\"dataframe\">\n",
       "  <thead>\n",
       "    <tr style=\"text-align: right;\">\n",
       "      <th></th>\n",
       "      <th>Make</th>\n",
       "      <th>Model</th>\n",
       "      <th>Price</th>\n",
       "      <th>Year</th>\n",
       "      <th>Kilometer</th>\n",
       "      <th>Fuel Type</th>\n",
       "      <th>Transmission</th>\n",
       "      <th>Location</th>\n",
       "      <th>Color</th>\n",
       "      <th>Owner</th>\n",
       "      <th>Seller Type</th>\n",
       "      <th>Engine</th>\n",
       "      <th>Max Power</th>\n",
       "      <th>Max Torque</th>\n",
       "      <th>Drivetrain</th>\n",
       "      <th>Length</th>\n",
       "      <th>Width</th>\n",
       "      <th>Height</th>\n",
       "      <th>Seating Capacity</th>\n",
       "      <th>Fuel Tank Capacity</th>\n",
       "    </tr>\n",
       "  </thead>\n",
       "  <tbody>\n",
       "    <tr>\n",
       "      <th>Make</th>\n",
       "      <td>1.000000</td>\n",
       "      <td>0.181838</td>\n",
       "      <td>-0.015470</td>\n",
       "      <td>0.059386</td>\n",
       "      <td>0.026307</td>\n",
       "      <td>-0.010786</td>\n",
       "      <td>0.093944</td>\n",
       "      <td>0.028467</td>\n",
       "      <td>0.011354</td>\n",
       "      <td>0.006720</td>\n",
       "      <td>-0.048179</td>\n",
       "      <td>0.086187</td>\n",
       "      <td>-0.029107</td>\n",
       "      <td>-0.007844</td>\n",
       "      <td>0.203618</td>\n",
       "      <td>-0.002762</td>\n",
       "      <td>-0.026665</td>\n",
       "      <td>0.190423</td>\n",
       "      <td>0.208140</td>\n",
       "      <td>0.036998</td>\n",
       "    </tr>\n",
       "    <tr>\n",
       "      <th>Model</th>\n",
       "      <td>0.181838</td>\n",
       "      <td>1.000000</td>\n",
       "      <td>-0.105256</td>\n",
       "      <td>-0.046515</td>\n",
       "      <td>0.055961</td>\n",
       "      <td>-0.056135</td>\n",
       "      <td>0.219042</td>\n",
       "      <td>-0.018523</td>\n",
       "      <td>0.035245</td>\n",
       "      <td>-0.011043</td>\n",
       "      <td>-0.028423</td>\n",
       "      <td>-0.019417</td>\n",
       "      <td>0.084062</td>\n",
       "      <td>0.010828</td>\n",
       "      <td>-0.248986</td>\n",
       "      <td>-0.234354</td>\n",
       "      <td>-0.105128</td>\n",
       "      <td>0.317725</td>\n",
       "      <td>0.089084</td>\n",
       "      <td>-0.083605</td>\n",
       "    </tr>\n",
       "    <tr>\n",
       "      <th>Price</th>\n",
       "      <td>-0.015470</td>\n",
       "      <td>-0.105256</td>\n",
       "      <td>1.000000</td>\n",
       "      <td>0.329765</td>\n",
       "      <td>-0.293144</td>\n",
       "      <td>-0.127892</td>\n",
       "      <td>-0.489021</td>\n",
       "      <td>-0.092345</td>\n",
       "      <td>-0.112813</td>\n",
       "      <td>0.064677</td>\n",
       "      <td>-0.097971</td>\n",
       "      <td>0.300454</td>\n",
       "      <td>-0.162277</td>\n",
       "      <td>0.393138</td>\n",
       "      <td>0.034396</td>\n",
       "      <td>0.599979</td>\n",
       "      <td>0.569090</td>\n",
       "      <td>0.060703</td>\n",
       "      <td>0.010388</td>\n",
       "      <td>0.559048</td>\n",
       "    </tr>\n",
       "    <tr>\n",
       "      <th>Year</th>\n",
       "      <td>0.059386</td>\n",
       "      <td>-0.046515</td>\n",
       "      <td>0.329765</td>\n",
       "      <td>1.000000</td>\n",
       "      <td>-0.568682</td>\n",
       "      <td>-0.008587</td>\n",
       "      <td>-0.164528</td>\n",
       "      <td>-0.059424</td>\n",
       "      <td>-0.061384</td>\n",
       "      <td>-0.276696</td>\n",
       "      <td>-0.036491</td>\n",
       "      <td>0.115683</td>\n",
       "      <td>-0.157049</td>\n",
       "      <td>0.070830</td>\n",
       "      <td>-0.017308</td>\n",
       "      <td>0.088125</td>\n",
       "      <td>0.206518</td>\n",
       "      <td>0.144335</td>\n",
       "      <td>0.009373</td>\n",
       "      <td>0.053952</td>\n",
       "    </tr>\n",
       "    <tr>\n",
       "      <th>Kilometer</th>\n",
       "      <td>0.026307</td>\n",
       "      <td>0.055961</td>\n",
       "      <td>-0.293144</td>\n",
       "      <td>-0.568682</td>\n",
       "      <td>1.000000</td>\n",
       "      <td>-0.288744</td>\n",
       "      <td>0.179111</td>\n",
       "      <td>0.002421</td>\n",
       "      <td>0.067615</td>\n",
       "      <td>0.191998</td>\n",
       "      <td>0.034171</td>\n",
       "      <td>-0.054279</td>\n",
       "      <td>0.040180</td>\n",
       "      <td>-0.009048</td>\n",
       "      <td>0.004654</td>\n",
       "      <td>0.038174</td>\n",
       "      <td>-0.018248</td>\n",
       "      <td>0.087912</td>\n",
       "      <td>0.184278</td>\n",
       "      <td>0.069502</td>\n",
       "    </tr>\n",
       "    <tr>\n",
       "      <th>Fuel Type</th>\n",
       "      <td>-0.010786</td>\n",
       "      <td>-0.056135</td>\n",
       "      <td>-0.127892</td>\n",
       "      <td>-0.008587</td>\n",
       "      <td>-0.288744</td>\n",
       "      <td>1.000000</td>\n",
       "      <td>0.063345</td>\n",
       "      <td>0.063038</td>\n",
       "      <td>-0.036138</td>\n",
       "      <td>-0.053180</td>\n",
       "      <td>-0.014933</td>\n",
       "      <td>-0.126939</td>\n",
       "      <td>0.107826</td>\n",
       "      <td>-0.402916</td>\n",
       "      <td>-0.020189</td>\n",
       "      <td>-0.304559</td>\n",
       "      <td>-0.352984</td>\n",
       "      <td>-0.318168</td>\n",
       "      <td>-0.288543</td>\n",
       "      <td>-0.404841</td>\n",
       "    </tr>\n",
       "    <tr>\n",
       "      <th>Transmission</th>\n",
       "      <td>0.093944</td>\n",
       "      <td>0.219042</td>\n",
       "      <td>-0.489021</td>\n",
       "      <td>-0.164528</td>\n",
       "      <td>0.179111</td>\n",
       "      <td>0.063345</td>\n",
       "      <td>1.000000</td>\n",
       "      <td>0.058040</td>\n",
       "      <td>0.129855</td>\n",
       "      <td>-0.076089</td>\n",
       "      <td>0.069607</td>\n",
       "      <td>-0.236985</td>\n",
       "      <td>0.311805</td>\n",
       "      <td>-0.307403</td>\n",
       "      <td>-0.001100</td>\n",
       "      <td>-0.501497</td>\n",
       "      <td>-0.481548</td>\n",
       "      <td>0.042612</td>\n",
       "      <td>-0.000086</td>\n",
       "      <td>-0.467208</td>\n",
       "    </tr>\n",
       "    <tr>\n",
       "      <th>Location</th>\n",
       "      <td>0.028467</td>\n",
       "      <td>-0.018523</td>\n",
       "      <td>-0.092345</td>\n",
       "      <td>-0.059424</td>\n",
       "      <td>0.002421</td>\n",
       "      <td>0.063038</td>\n",
       "      <td>0.058040</td>\n",
       "      <td>1.000000</td>\n",
       "      <td>-0.012467</td>\n",
       "      <td>-0.037280</td>\n",
       "      <td>-0.093461</td>\n",
       "      <td>-0.038805</td>\n",
       "      <td>0.090924</td>\n",
       "      <td>-0.070259</td>\n",
       "      <td>0.022145</td>\n",
       "      <td>-0.060167</td>\n",
       "      <td>-0.082577</td>\n",
       "      <td>-0.026558</td>\n",
       "      <td>0.005695</td>\n",
       "      <td>-0.089324</td>\n",
       "    </tr>\n",
       "    <tr>\n",
       "      <th>Color</th>\n",
       "      <td>0.011354</td>\n",
       "      <td>0.035245</td>\n",
       "      <td>-0.112813</td>\n",
       "      <td>-0.061384</td>\n",
       "      <td>0.067615</td>\n",
       "      <td>-0.036138</td>\n",
       "      <td>0.129855</td>\n",
       "      <td>-0.012467</td>\n",
       "      <td>1.000000</td>\n",
       "      <td>-0.009077</td>\n",
       "      <td>0.012436</td>\n",
       "      <td>-0.056800</td>\n",
       "      <td>0.083710</td>\n",
       "      <td>-0.034208</td>\n",
       "      <td>0.041587</td>\n",
       "      <td>-0.130574</td>\n",
       "      <td>-0.122522</td>\n",
       "      <td>-0.012409</td>\n",
       "      <td>0.009006</td>\n",
       "      <td>-0.086116</td>\n",
       "    </tr>\n",
       "    <tr>\n",
       "      <th>Owner</th>\n",
       "      <td>0.006720</td>\n",
       "      <td>-0.011043</td>\n",
       "      <td>0.064677</td>\n",
       "      <td>-0.276696</td>\n",
       "      <td>0.191998</td>\n",
       "      <td>-0.053180</td>\n",
       "      <td>-0.076089</td>\n",
       "      <td>-0.037280</td>\n",
       "      <td>-0.009077</td>\n",
       "      <td>1.000000</td>\n",
       "      <td>0.053863</td>\n",
       "      <td>0.036648</td>\n",
       "      <td>-0.004261</td>\n",
       "      <td>0.089412</td>\n",
       "      <td>-0.018837</td>\n",
       "      <td>0.091017</td>\n",
       "      <td>0.052992</td>\n",
       "      <td>-0.007985</td>\n",
       "      <td>0.024100</td>\n",
       "      <td>0.095345</td>\n",
       "    </tr>\n",
       "    <tr>\n",
       "      <th>Seller Type</th>\n",
       "      <td>-0.048179</td>\n",
       "      <td>-0.028423</td>\n",
       "      <td>-0.097971</td>\n",
       "      <td>-0.036491</td>\n",
       "      <td>0.034171</td>\n",
       "      <td>-0.014933</td>\n",
       "      <td>0.069607</td>\n",
       "      <td>-0.093461</td>\n",
       "      <td>0.012436</td>\n",
       "      <td>0.053863</td>\n",
       "      <td>1.000000</td>\n",
       "      <td>-0.003280</td>\n",
       "      <td>0.046142</td>\n",
       "      <td>-0.020174</td>\n",
       "      <td>0.003158</td>\n",
       "      <td>-0.068645</td>\n",
       "      <td>-0.064411</td>\n",
       "      <td>0.011511</td>\n",
       "      <td>0.016025</td>\n",
       "      <td>-0.057657</td>\n",
       "    </tr>\n",
       "    <tr>\n",
       "      <th>Engine</th>\n",
       "      <td>0.086187</td>\n",
       "      <td>-0.019417</td>\n",
       "      <td>0.300454</td>\n",
       "      <td>0.115683</td>\n",
       "      <td>-0.054279</td>\n",
       "      <td>-0.126939</td>\n",
       "      <td>-0.236985</td>\n",
       "      <td>-0.038805</td>\n",
       "      <td>-0.056800</td>\n",
       "      <td>0.036648</td>\n",
       "      <td>-0.003280</td>\n",
       "      <td>1.000000</td>\n",
       "      <td>-0.299262</td>\n",
       "      <td>0.727446</td>\n",
       "      <td>0.008754</td>\n",
       "      <td>0.220007</td>\n",
       "      <td>0.094819</td>\n",
       "      <td>0.231675</td>\n",
       "      <td>0.180500</td>\n",
       "      <td>0.273489</td>\n",
       "    </tr>\n",
       "    <tr>\n",
       "      <th>Max Power</th>\n",
       "      <td>-0.029107</td>\n",
       "      <td>0.084062</td>\n",
       "      <td>-0.162277</td>\n",
       "      <td>-0.157049</td>\n",
       "      <td>0.040180</td>\n",
       "      <td>0.107826</td>\n",
       "      <td>0.311805</td>\n",
       "      <td>0.090924</td>\n",
       "      <td>0.083710</td>\n",
       "      <td>-0.004261</td>\n",
       "      <td>0.046142</td>\n",
       "      <td>-0.299262</td>\n",
       "      <td>1.000000</td>\n",
       "      <td>-0.189024</td>\n",
       "      <td>-0.033341</td>\n",
       "      <td>-0.488648</td>\n",
       "      <td>-0.382907</td>\n",
       "      <td>-0.132750</td>\n",
       "      <td>-0.138297</td>\n",
       "      <td>-0.400384</td>\n",
       "    </tr>\n",
       "    <tr>\n",
       "      <th>Max Torque</th>\n",
       "      <td>-0.007844</td>\n",
       "      <td>0.010828</td>\n",
       "      <td>0.393138</td>\n",
       "      <td>0.070830</td>\n",
       "      <td>-0.009048</td>\n",
       "      <td>-0.402916</td>\n",
       "      <td>-0.307403</td>\n",
       "      <td>-0.070259</td>\n",
       "      <td>-0.034208</td>\n",
       "      <td>0.089412</td>\n",
       "      <td>-0.020174</td>\n",
       "      <td>0.727446</td>\n",
       "      <td>-0.189024</td>\n",
       "      <td>1.000000</td>\n",
       "      <td>0.001571</td>\n",
       "      <td>0.269592</td>\n",
       "      <td>0.196217</td>\n",
       "      <td>0.209717</td>\n",
       "      <td>0.132280</td>\n",
       "      <td>0.392150</td>\n",
       "    </tr>\n",
       "    <tr>\n",
       "      <th>Drivetrain</th>\n",
       "      <td>0.203618</td>\n",
       "      <td>-0.248986</td>\n",
       "      <td>0.034396</td>\n",
       "      <td>-0.017308</td>\n",
       "      <td>0.004654</td>\n",
       "      <td>-0.020189</td>\n",
       "      <td>-0.001100</td>\n",
       "      <td>0.022145</td>\n",
       "      <td>0.041587</td>\n",
       "      <td>-0.018837</td>\n",
       "      <td>0.003158</td>\n",
       "      <td>0.008754</td>\n",
       "      <td>-0.033341</td>\n",
       "      <td>0.001571</td>\n",
       "      <td>1.000000</td>\n",
       "      <td>0.122631</td>\n",
       "      <td>-0.031906</td>\n",
       "      <td>-0.172851</td>\n",
       "      <td>0.099155</td>\n",
       "      <td>0.055119</td>\n",
       "    </tr>\n",
       "    <tr>\n",
       "      <th>Length</th>\n",
       "      <td>-0.002762</td>\n",
       "      <td>-0.234354</td>\n",
       "      <td>0.599979</td>\n",
       "      <td>0.088125</td>\n",
       "      <td>0.038174</td>\n",
       "      <td>-0.304559</td>\n",
       "      <td>-0.501497</td>\n",
       "      <td>-0.060167</td>\n",
       "      <td>-0.130574</td>\n",
       "      <td>0.091017</td>\n",
       "      <td>-0.068645</td>\n",
       "      <td>0.220007</td>\n",
       "      <td>-0.488648</td>\n",
       "      <td>0.269592</td>\n",
       "      <td>0.122631</td>\n",
       "      <td>1.000000</td>\n",
       "      <td>0.811317</td>\n",
       "      <td>0.137025</td>\n",
       "      <td>0.310288</td>\n",
       "      <td>0.787226</td>\n",
       "    </tr>\n",
       "    <tr>\n",
       "      <th>Width</th>\n",
       "      <td>-0.026665</td>\n",
       "      <td>-0.105128</td>\n",
       "      <td>0.569090</td>\n",
       "      <td>0.206518</td>\n",
       "      <td>-0.018248</td>\n",
       "      <td>-0.352984</td>\n",
       "      <td>-0.481548</td>\n",
       "      <td>-0.082577</td>\n",
       "      <td>-0.122522</td>\n",
       "      <td>0.052992</td>\n",
       "      <td>-0.064411</td>\n",
       "      <td>0.094819</td>\n",
       "      <td>-0.382907</td>\n",
       "      <td>0.196217</td>\n",
       "      <td>-0.031906</td>\n",
       "      <td>0.811317</td>\n",
       "      <td>1.000000</td>\n",
       "      <td>0.319088</td>\n",
       "      <td>0.272810</td>\n",
       "      <td>0.783764</td>\n",
       "    </tr>\n",
       "    <tr>\n",
       "      <th>Height</th>\n",
       "      <td>0.190423</td>\n",
       "      <td>0.317725</td>\n",
       "      <td>0.060703</td>\n",
       "      <td>0.144335</td>\n",
       "      <td>0.087912</td>\n",
       "      <td>-0.318168</td>\n",
       "      <td>0.042612</td>\n",
       "      <td>-0.026558</td>\n",
       "      <td>-0.012409</td>\n",
       "      <td>-0.007985</td>\n",
       "      <td>0.011511</td>\n",
       "      <td>0.231675</td>\n",
       "      <td>-0.132750</td>\n",
       "      <td>0.209717</td>\n",
       "      <td>-0.172851</td>\n",
       "      <td>0.137025</td>\n",
       "      <td>0.319088</td>\n",
       "      <td>1.000000</td>\n",
       "      <td>0.656342</td>\n",
       "      <td>0.351426</td>\n",
       "    </tr>\n",
       "    <tr>\n",
       "      <th>Seating Capacity</th>\n",
       "      <td>0.208140</td>\n",
       "      <td>0.089084</td>\n",
       "      <td>0.010388</td>\n",
       "      <td>0.009373</td>\n",
       "      <td>0.184278</td>\n",
       "      <td>-0.288543</td>\n",
       "      <td>-0.000086</td>\n",
       "      <td>0.005695</td>\n",
       "      <td>0.009006</td>\n",
       "      <td>0.024100</td>\n",
       "      <td>0.016025</td>\n",
       "      <td>0.180500</td>\n",
       "      <td>-0.138297</td>\n",
       "      <td>0.132280</td>\n",
       "      <td>0.099155</td>\n",
       "      <td>0.310288</td>\n",
       "      <td>0.272810</td>\n",
       "      <td>0.656342</td>\n",
       "      <td>1.000000</td>\n",
       "      <td>0.322438</td>\n",
       "    </tr>\n",
       "    <tr>\n",
       "      <th>Fuel Tank Capacity</th>\n",
       "      <td>0.036998</td>\n",
       "      <td>-0.083605</td>\n",
       "      <td>0.559048</td>\n",
       "      <td>0.053952</td>\n",
       "      <td>0.069502</td>\n",
       "      <td>-0.404841</td>\n",
       "      <td>-0.467208</td>\n",
       "      <td>-0.089324</td>\n",
       "      <td>-0.086116</td>\n",
       "      <td>0.095345</td>\n",
       "      <td>-0.057657</td>\n",
       "      <td>0.273489</td>\n",
       "      <td>-0.400384</td>\n",
       "      <td>0.392150</td>\n",
       "      <td>0.055119</td>\n",
       "      <td>0.787226</td>\n",
       "      <td>0.783764</td>\n",
       "      <td>0.351426</td>\n",
       "      <td>0.322438</td>\n",
       "      <td>1.000000</td>\n",
       "    </tr>\n",
       "  </tbody>\n",
       "</table>\n",
       "</div>"
      ],
      "text/plain": [
       "                        Make     Model     Price      Year  Kilometer  \\\n",
       "Make                1.000000  0.181838 -0.015470  0.059386   0.026307   \n",
       "Model               0.181838  1.000000 -0.105256 -0.046515   0.055961   \n",
       "Price              -0.015470 -0.105256  1.000000  0.329765  -0.293144   \n",
       "Year                0.059386 -0.046515  0.329765  1.000000  -0.568682   \n",
       "Kilometer           0.026307  0.055961 -0.293144 -0.568682   1.000000   \n",
       "Fuel Type          -0.010786 -0.056135 -0.127892 -0.008587  -0.288744   \n",
       "Transmission        0.093944  0.219042 -0.489021 -0.164528   0.179111   \n",
       "Location            0.028467 -0.018523 -0.092345 -0.059424   0.002421   \n",
       "Color               0.011354  0.035245 -0.112813 -0.061384   0.067615   \n",
       "Owner               0.006720 -0.011043  0.064677 -0.276696   0.191998   \n",
       "Seller Type        -0.048179 -0.028423 -0.097971 -0.036491   0.034171   \n",
       "Engine              0.086187 -0.019417  0.300454  0.115683  -0.054279   \n",
       "Max Power          -0.029107  0.084062 -0.162277 -0.157049   0.040180   \n",
       "Max Torque         -0.007844  0.010828  0.393138  0.070830  -0.009048   \n",
       "Drivetrain          0.203618 -0.248986  0.034396 -0.017308   0.004654   \n",
       "Length             -0.002762 -0.234354  0.599979  0.088125   0.038174   \n",
       "Width              -0.026665 -0.105128  0.569090  0.206518  -0.018248   \n",
       "Height              0.190423  0.317725  0.060703  0.144335   0.087912   \n",
       "Seating Capacity    0.208140  0.089084  0.010388  0.009373   0.184278   \n",
       "Fuel Tank Capacity  0.036998 -0.083605  0.559048  0.053952   0.069502   \n",
       "\n",
       "                    Fuel Type  Transmission  Location     Color     Owner  \\\n",
       "Make                -0.010786      0.093944  0.028467  0.011354  0.006720   \n",
       "Model               -0.056135      0.219042 -0.018523  0.035245 -0.011043   \n",
       "Price               -0.127892     -0.489021 -0.092345 -0.112813  0.064677   \n",
       "Year                -0.008587     -0.164528 -0.059424 -0.061384 -0.276696   \n",
       "Kilometer           -0.288744      0.179111  0.002421  0.067615  0.191998   \n",
       "Fuel Type            1.000000      0.063345  0.063038 -0.036138 -0.053180   \n",
       "Transmission         0.063345      1.000000  0.058040  0.129855 -0.076089   \n",
       "Location             0.063038      0.058040  1.000000 -0.012467 -0.037280   \n",
       "Color               -0.036138      0.129855 -0.012467  1.000000 -0.009077   \n",
       "Owner               -0.053180     -0.076089 -0.037280 -0.009077  1.000000   \n",
       "Seller Type         -0.014933      0.069607 -0.093461  0.012436  0.053863   \n",
       "Engine              -0.126939     -0.236985 -0.038805 -0.056800  0.036648   \n",
       "Max Power            0.107826      0.311805  0.090924  0.083710 -0.004261   \n",
       "Max Torque          -0.402916     -0.307403 -0.070259 -0.034208  0.089412   \n",
       "Drivetrain          -0.020189     -0.001100  0.022145  0.041587 -0.018837   \n",
       "Length              -0.304559     -0.501497 -0.060167 -0.130574  0.091017   \n",
       "Width               -0.352984     -0.481548 -0.082577 -0.122522  0.052992   \n",
       "Height              -0.318168      0.042612 -0.026558 -0.012409 -0.007985   \n",
       "Seating Capacity    -0.288543     -0.000086  0.005695  0.009006  0.024100   \n",
       "Fuel Tank Capacity  -0.404841     -0.467208 -0.089324 -0.086116  0.095345   \n",
       "\n",
       "                    Seller Type    Engine  Max Power  Max Torque  Drivetrain  \\\n",
       "Make                  -0.048179  0.086187  -0.029107   -0.007844    0.203618   \n",
       "Model                 -0.028423 -0.019417   0.084062    0.010828   -0.248986   \n",
       "Price                 -0.097971  0.300454  -0.162277    0.393138    0.034396   \n",
       "Year                  -0.036491  0.115683  -0.157049    0.070830   -0.017308   \n",
       "Kilometer              0.034171 -0.054279   0.040180   -0.009048    0.004654   \n",
       "Fuel Type             -0.014933 -0.126939   0.107826   -0.402916   -0.020189   \n",
       "Transmission           0.069607 -0.236985   0.311805   -0.307403   -0.001100   \n",
       "Location              -0.093461 -0.038805   0.090924   -0.070259    0.022145   \n",
       "Color                  0.012436 -0.056800   0.083710   -0.034208    0.041587   \n",
       "Owner                  0.053863  0.036648  -0.004261    0.089412   -0.018837   \n",
       "Seller Type            1.000000 -0.003280   0.046142   -0.020174    0.003158   \n",
       "Engine                -0.003280  1.000000  -0.299262    0.727446    0.008754   \n",
       "Max Power              0.046142 -0.299262   1.000000   -0.189024   -0.033341   \n",
       "Max Torque            -0.020174  0.727446  -0.189024    1.000000    0.001571   \n",
       "Drivetrain             0.003158  0.008754  -0.033341    0.001571    1.000000   \n",
       "Length                -0.068645  0.220007  -0.488648    0.269592    0.122631   \n",
       "Width                 -0.064411  0.094819  -0.382907    0.196217   -0.031906   \n",
       "Height                 0.011511  0.231675  -0.132750    0.209717   -0.172851   \n",
       "Seating Capacity       0.016025  0.180500  -0.138297    0.132280    0.099155   \n",
       "Fuel Tank Capacity    -0.057657  0.273489  -0.400384    0.392150    0.055119   \n",
       "\n",
       "                      Length     Width    Height  Seating Capacity  \\\n",
       "Make               -0.002762 -0.026665  0.190423          0.208140   \n",
       "Model              -0.234354 -0.105128  0.317725          0.089084   \n",
       "Price               0.599979  0.569090  0.060703          0.010388   \n",
       "Year                0.088125  0.206518  0.144335          0.009373   \n",
       "Kilometer           0.038174 -0.018248  0.087912          0.184278   \n",
       "Fuel Type          -0.304559 -0.352984 -0.318168         -0.288543   \n",
       "Transmission       -0.501497 -0.481548  0.042612         -0.000086   \n",
       "Location           -0.060167 -0.082577 -0.026558          0.005695   \n",
       "Color              -0.130574 -0.122522 -0.012409          0.009006   \n",
       "Owner               0.091017  0.052992 -0.007985          0.024100   \n",
       "Seller Type        -0.068645 -0.064411  0.011511          0.016025   \n",
       "Engine              0.220007  0.094819  0.231675          0.180500   \n",
       "Max Power          -0.488648 -0.382907 -0.132750         -0.138297   \n",
       "Max Torque          0.269592  0.196217  0.209717          0.132280   \n",
       "Drivetrain          0.122631 -0.031906 -0.172851          0.099155   \n",
       "Length              1.000000  0.811317  0.137025          0.310288   \n",
       "Width               0.811317  1.000000  0.319088          0.272810   \n",
       "Height              0.137025  0.319088  1.000000          0.656342   \n",
       "Seating Capacity    0.310288  0.272810  0.656342          1.000000   \n",
       "Fuel Tank Capacity  0.787226  0.783764  0.351426          0.322438   \n",
       "\n",
       "                    Fuel Tank Capacity  \n",
       "Make                          0.036998  \n",
       "Model                        -0.083605  \n",
       "Price                         0.559048  \n",
       "Year                          0.053952  \n",
       "Kilometer                     0.069502  \n",
       "Fuel Type                    -0.404841  \n",
       "Transmission                 -0.467208  \n",
       "Location                     -0.089324  \n",
       "Color                        -0.086116  \n",
       "Owner                         0.095345  \n",
       "Seller Type                  -0.057657  \n",
       "Engine                        0.273489  \n",
       "Max Power                    -0.400384  \n",
       "Max Torque                    0.392150  \n",
       "Drivetrain                    0.055119  \n",
       "Length                        0.787226  \n",
       "Width                         0.783764  \n",
       "Height                        0.351426  \n",
       "Seating Capacity              0.322438  \n",
       "Fuel Tank Capacity            1.000000  "
      ]
     },
     "execution_count": 52,
     "metadata": {},
     "output_type": "execute_result"
    }
   ],
   "source": [
    "correlation=data.corr()\n",
    "correlation"
   ]
  },
  {
   "cell_type": "markdown",
   "id": "95db6fb6",
   "metadata": {},
   "source": [
    "### Train Test Split"
   ]
  },
  {
   "cell_type": "code",
   "execution_count": 53,
   "id": "6a6a2cd2",
   "metadata": {},
   "outputs": [],
   "source": [
    "x=data.drop('Price',axis=1)\n",
    "y=data['Price']"
   ]
  },
  {
   "cell_type": "code",
   "execution_count": 54,
   "id": "3aa5ac95",
   "metadata": {},
   "outputs": [],
   "source": [
    "x_train,x_test,y_train,y_test=train_test_split(x,y,test_size=0.2,random_state=12)"
   ]
  },
  {
   "cell_type": "markdown",
   "id": "ecb3724d",
   "metadata": {},
   "source": [
    "### Linear Regression"
   ]
  },
  {
   "cell_type": "code",
   "execution_count": 55,
   "id": "15fab9c0",
   "metadata": {},
   "outputs": [
    {
     "data": {
      "text/html": [
       "<style>#sk-container-id-1 {color: black;background-color: white;}#sk-container-id-1 pre{padding: 0;}#sk-container-id-1 div.sk-toggleable {background-color: white;}#sk-container-id-1 label.sk-toggleable__label {cursor: pointer;display: block;width: 100%;margin-bottom: 0;padding: 0.3em;box-sizing: border-box;text-align: center;}#sk-container-id-1 label.sk-toggleable__label-arrow:before {content: \"▸\";float: left;margin-right: 0.25em;color: #696969;}#sk-container-id-1 label.sk-toggleable__label-arrow:hover:before {color: black;}#sk-container-id-1 div.sk-estimator:hover label.sk-toggleable__label-arrow:before {color: black;}#sk-container-id-1 div.sk-toggleable__content {max-height: 0;max-width: 0;overflow: hidden;text-align: left;background-color: #f0f8ff;}#sk-container-id-1 div.sk-toggleable__content pre {margin: 0.2em;color: black;border-radius: 0.25em;background-color: #f0f8ff;}#sk-container-id-1 input.sk-toggleable__control:checked~div.sk-toggleable__content {max-height: 200px;max-width: 100%;overflow: auto;}#sk-container-id-1 input.sk-toggleable__control:checked~label.sk-toggleable__label-arrow:before {content: \"▾\";}#sk-container-id-1 div.sk-estimator input.sk-toggleable__control:checked~label.sk-toggleable__label {background-color: #d4ebff;}#sk-container-id-1 div.sk-label input.sk-toggleable__control:checked~label.sk-toggleable__label {background-color: #d4ebff;}#sk-container-id-1 input.sk-hidden--visually {border: 0;clip: rect(1px 1px 1px 1px);clip: rect(1px, 1px, 1px, 1px);height: 1px;margin: -1px;overflow: hidden;padding: 0;position: absolute;width: 1px;}#sk-container-id-1 div.sk-estimator {font-family: monospace;background-color: #f0f8ff;border: 1px dotted black;border-radius: 0.25em;box-sizing: border-box;margin-bottom: 0.5em;}#sk-container-id-1 div.sk-estimator:hover {background-color: #d4ebff;}#sk-container-id-1 div.sk-parallel-item::after {content: \"\";width: 100%;border-bottom: 1px solid gray;flex-grow: 1;}#sk-container-id-1 div.sk-label:hover label.sk-toggleable__label {background-color: #d4ebff;}#sk-container-id-1 div.sk-serial::before {content: \"\";position: absolute;border-left: 1px solid gray;box-sizing: border-box;top: 0;bottom: 0;left: 50%;z-index: 0;}#sk-container-id-1 div.sk-serial {display: flex;flex-direction: column;align-items: center;background-color: white;padding-right: 0.2em;padding-left: 0.2em;position: relative;}#sk-container-id-1 div.sk-item {position: relative;z-index: 1;}#sk-container-id-1 div.sk-parallel {display: flex;align-items: stretch;justify-content: center;background-color: white;position: relative;}#sk-container-id-1 div.sk-item::before, #sk-container-id-1 div.sk-parallel-item::before {content: \"\";position: absolute;border-left: 1px solid gray;box-sizing: border-box;top: 0;bottom: 0;left: 50%;z-index: -1;}#sk-container-id-1 div.sk-parallel-item {display: flex;flex-direction: column;z-index: 1;position: relative;background-color: white;}#sk-container-id-1 div.sk-parallel-item:first-child::after {align-self: flex-end;width: 50%;}#sk-container-id-1 div.sk-parallel-item:last-child::after {align-self: flex-start;width: 50%;}#sk-container-id-1 div.sk-parallel-item:only-child::after {width: 0;}#sk-container-id-1 div.sk-dashed-wrapped {border: 1px dashed gray;margin: 0 0.4em 0.5em 0.4em;box-sizing: border-box;padding-bottom: 0.4em;background-color: white;}#sk-container-id-1 div.sk-label label {font-family: monospace;font-weight: bold;display: inline-block;line-height: 1.2em;}#sk-container-id-1 div.sk-label-container {text-align: center;}#sk-container-id-1 div.sk-container {/* jupyter's `normalize.less` sets `[hidden] { display: none; }` but bootstrap.min.css set `[hidden] { display: none !important; }` so we also need the `!important` here to be able to override the default hidden behavior on the sphinx rendered scikit-learn.org. See: https://github.com/scikit-learn/scikit-learn/issues/21755 */display: inline-block !important;position: relative;}#sk-container-id-1 div.sk-text-repr-fallback {display: none;}</style><div id=\"sk-container-id-1\" class=\"sk-top-container\"><div class=\"sk-text-repr-fallback\"><pre>LinearRegression()</pre><b>In a Jupyter environment, please rerun this cell to show the HTML representation or trust the notebook. <br />On GitHub, the HTML representation is unable to render, please try loading this page with nbviewer.org.</b></div><div class=\"sk-container\" hidden><div class=\"sk-item\"><div class=\"sk-estimator sk-toggleable\"><input class=\"sk-toggleable__control sk-hidden--visually\" id=\"sk-estimator-id-1\" type=\"checkbox\" checked><label for=\"sk-estimator-id-1\" class=\"sk-toggleable__label sk-toggleable__label-arrow\">LinearRegression</label><div class=\"sk-toggleable__content\"><pre>LinearRegression()</pre></div></div></div></div></div>"
      ],
      "text/plain": [
       "LinearRegression()"
      ]
     },
     "execution_count": 55,
     "metadata": {},
     "output_type": "execute_result"
    }
   ],
   "source": [
    "model1=LinearRegression()\n",
    "model1.fit(x_train,y_train)"
   ]
  },
  {
   "cell_type": "code",
   "execution_count": 56,
   "id": "d1c71a21",
   "metadata": {},
   "outputs": [
    {
     "data": {
      "text/plain": [
       "array([ 1.92045601e+03,  4.58654103e+02,  1.12482414e+05, -1.17256452e+01,\n",
       "        1.01632675e+05, -2.69077876e+05, -3.63414049e+03, -2.65049359e+03,\n",
       "        2.06170067e+05, -5.93344003e+05,  5.34265459e+03,  4.75526187e+03,\n",
       "        4.81853498e+03,  6.48648270e+04,  2.45390283e+03,  3.02076897e+03,\n",
       "       -1.09526067e+02, -4.90094347e+05,  1.91465255e+04])"
      ]
     },
     "execution_count": 56,
     "metadata": {},
     "output_type": "execute_result"
    }
   ],
   "source": [
    "model1.coef_"
   ]
  },
  {
   "cell_type": "code",
   "execution_count": 57,
   "id": "5829fce7",
   "metadata": {},
   "outputs": [
    {
     "data": {
      "text/plain": [
       "-239922388.1541323"
      ]
     },
     "execution_count": 57,
     "metadata": {},
     "output_type": "execute_result"
    }
   ],
   "source": [
    "model1.intercept_"
   ]
  },
  {
   "cell_type": "code",
   "execution_count": 58,
   "id": "b9d9ac6b",
   "metadata": {},
   "outputs": [
    {
     "data": {
      "text/plain": [
       "0.637980985041664"
      ]
     },
     "execution_count": 58,
     "metadata": {},
     "output_type": "execute_result"
    }
   ],
   "source": [
    "model1.score(x_train,y_train)"
   ]
  },
  {
   "cell_type": "code",
   "execution_count": 59,
   "id": "ddf222f9",
   "metadata": {},
   "outputs": [
    {
     "data": {
      "text/plain": [
       "0.6012851955518377"
      ]
     },
     "execution_count": 59,
     "metadata": {},
     "output_type": "execute_result"
    }
   ],
   "source": [
    "model1.score(x_test,y_test)"
   ]
  },
  {
   "cell_type": "code",
   "execution_count": 60,
   "id": "71008dc1",
   "metadata": {},
   "outputs": [],
   "source": [
    "y_pred=model1.predict(x_test)"
   ]
  },
  {
   "cell_type": "code",
   "execution_count": 61,
   "id": "4e5aac8e",
   "metadata": {},
   "outputs": [
    {
     "data": {
      "text/html": [
       "<div>\n",
       "<style scoped>\n",
       "    .dataframe tbody tr th:only-of-type {\n",
       "        vertical-align: middle;\n",
       "    }\n",
       "\n",
       "    .dataframe tbody tr th {\n",
       "        vertical-align: top;\n",
       "    }\n",
       "\n",
       "    .dataframe thead th {\n",
       "        text-align: right;\n",
       "    }\n",
       "</style>\n",
       "<table border=\"1\" class=\"dataframe\">\n",
       "  <thead>\n",
       "    <tr style=\"text-align: right;\">\n",
       "      <th></th>\n",
       "      <th>True values</th>\n",
       "      <th>Predicted values</th>\n",
       "    </tr>\n",
       "  </thead>\n",
       "  <tbody>\n",
       "    <tr>\n",
       "      <th>1074</th>\n",
       "      <td>545000</td>\n",
       "      <td>5.213276e+05</td>\n",
       "    </tr>\n",
       "    <tr>\n",
       "      <th>326</th>\n",
       "      <td>275000</td>\n",
       "      <td>-1.338467e+06</td>\n",
       "    </tr>\n",
       "    <tr>\n",
       "      <th>274</th>\n",
       "      <td>195000</td>\n",
       "      <td>-1.630244e+05</td>\n",
       "    </tr>\n",
       "    <tr>\n",
       "      <th>1431</th>\n",
       "      <td>1399000</td>\n",
       "      <td>1.669695e+06</td>\n",
       "    </tr>\n",
       "    <tr>\n",
       "      <th>226</th>\n",
       "      <td>395000</td>\n",
       "      <td>6.113680e+05</td>\n",
       "    </tr>\n",
       "    <tr>\n",
       "      <th>...</th>\n",
       "      <td>...</td>\n",
       "      <td>...</td>\n",
       "    </tr>\n",
       "    <tr>\n",
       "      <th>595</th>\n",
       "      <td>2200000</td>\n",
       "      <td>2.213987e+06</td>\n",
       "    </tr>\n",
       "    <tr>\n",
       "      <th>1537</th>\n",
       "      <td>1450000</td>\n",
       "      <td>1.400302e+06</td>\n",
       "    </tr>\n",
       "    <tr>\n",
       "      <th>1571</th>\n",
       "      <td>475000</td>\n",
       "      <td>1.774435e+05</td>\n",
       "    </tr>\n",
       "    <tr>\n",
       "      <th>1224</th>\n",
       "      <td>1199000</td>\n",
       "      <td>1.460045e+06</td>\n",
       "    </tr>\n",
       "    <tr>\n",
       "      <th>1668</th>\n",
       "      <td>625000</td>\n",
       "      <td>8.167961e+05</td>\n",
       "    </tr>\n",
       "  </tbody>\n",
       "</table>\n",
       "<p>355 rows × 2 columns</p>\n",
       "</div>"
      ],
      "text/plain": [
       "      True values  Predicted values\n",
       "1074       545000      5.213276e+05\n",
       "326        275000     -1.338467e+06\n",
       "274        195000     -1.630244e+05\n",
       "1431      1399000      1.669695e+06\n",
       "226        395000      6.113680e+05\n",
       "...           ...               ...\n",
       "595       2200000      2.213987e+06\n",
       "1537      1450000      1.400302e+06\n",
       "1571       475000      1.774435e+05\n",
       "1224      1199000      1.460045e+06\n",
       "1668       625000      8.167961e+05\n",
       "\n",
       "[355 rows x 2 columns]"
      ]
     },
     "execution_count": 61,
     "metadata": {},
     "output_type": "execute_result"
    }
   ],
   "source": [
    "pd.DataFrame({'True values':y_test,'Predicted values':y_pred})"
   ]
  },
  {
   "cell_type": "code",
   "execution_count": 62,
   "id": "d60425a6",
   "metadata": {},
   "outputs": [
    {
     "data": {
      "text/plain": [
       "700065.4534949999"
      ]
     },
     "execution_count": 62,
     "metadata": {},
     "output_type": "execute_result"
    }
   ],
   "source": [
    "mean_absolute_error(y_test,y_pred)"
   ]
  },
  {
   "cell_type": "code",
   "execution_count": 63,
   "id": "dfe0eb77",
   "metadata": {},
   "outputs": [
    {
     "data": {
      "text/plain": [
       "1246790131030.59"
      ]
     },
     "execution_count": 63,
     "metadata": {},
     "output_type": "execute_result"
    }
   ],
   "source": [
    "mean_squared_error(y_test,y_pred)"
   ]
  },
  {
   "cell_type": "markdown",
   "id": "6e528182",
   "metadata": {},
   "source": [
    "### Decision Tree Regressor"
   ]
  },
  {
   "cell_type": "code",
   "execution_count": 64,
   "id": "4adcc5b2",
   "metadata": {},
   "outputs": [
    {
     "data": {
      "text/html": [
       "<style>#sk-container-id-2 {color: black;background-color: white;}#sk-container-id-2 pre{padding: 0;}#sk-container-id-2 div.sk-toggleable {background-color: white;}#sk-container-id-2 label.sk-toggleable__label {cursor: pointer;display: block;width: 100%;margin-bottom: 0;padding: 0.3em;box-sizing: border-box;text-align: center;}#sk-container-id-2 label.sk-toggleable__label-arrow:before {content: \"▸\";float: left;margin-right: 0.25em;color: #696969;}#sk-container-id-2 label.sk-toggleable__label-arrow:hover:before {color: black;}#sk-container-id-2 div.sk-estimator:hover label.sk-toggleable__label-arrow:before {color: black;}#sk-container-id-2 div.sk-toggleable__content {max-height: 0;max-width: 0;overflow: hidden;text-align: left;background-color: #f0f8ff;}#sk-container-id-2 div.sk-toggleable__content pre {margin: 0.2em;color: black;border-radius: 0.25em;background-color: #f0f8ff;}#sk-container-id-2 input.sk-toggleable__control:checked~div.sk-toggleable__content {max-height: 200px;max-width: 100%;overflow: auto;}#sk-container-id-2 input.sk-toggleable__control:checked~label.sk-toggleable__label-arrow:before {content: \"▾\";}#sk-container-id-2 div.sk-estimator input.sk-toggleable__control:checked~label.sk-toggleable__label {background-color: #d4ebff;}#sk-container-id-2 div.sk-label input.sk-toggleable__control:checked~label.sk-toggleable__label {background-color: #d4ebff;}#sk-container-id-2 input.sk-hidden--visually {border: 0;clip: rect(1px 1px 1px 1px);clip: rect(1px, 1px, 1px, 1px);height: 1px;margin: -1px;overflow: hidden;padding: 0;position: absolute;width: 1px;}#sk-container-id-2 div.sk-estimator {font-family: monospace;background-color: #f0f8ff;border: 1px dotted black;border-radius: 0.25em;box-sizing: border-box;margin-bottom: 0.5em;}#sk-container-id-2 div.sk-estimator:hover {background-color: #d4ebff;}#sk-container-id-2 div.sk-parallel-item::after {content: \"\";width: 100%;border-bottom: 1px solid gray;flex-grow: 1;}#sk-container-id-2 div.sk-label:hover label.sk-toggleable__label {background-color: #d4ebff;}#sk-container-id-2 div.sk-serial::before {content: \"\";position: absolute;border-left: 1px solid gray;box-sizing: border-box;top: 0;bottom: 0;left: 50%;z-index: 0;}#sk-container-id-2 div.sk-serial {display: flex;flex-direction: column;align-items: center;background-color: white;padding-right: 0.2em;padding-left: 0.2em;position: relative;}#sk-container-id-2 div.sk-item {position: relative;z-index: 1;}#sk-container-id-2 div.sk-parallel {display: flex;align-items: stretch;justify-content: center;background-color: white;position: relative;}#sk-container-id-2 div.sk-item::before, #sk-container-id-2 div.sk-parallel-item::before {content: \"\";position: absolute;border-left: 1px solid gray;box-sizing: border-box;top: 0;bottom: 0;left: 50%;z-index: -1;}#sk-container-id-2 div.sk-parallel-item {display: flex;flex-direction: column;z-index: 1;position: relative;background-color: white;}#sk-container-id-2 div.sk-parallel-item:first-child::after {align-self: flex-end;width: 50%;}#sk-container-id-2 div.sk-parallel-item:last-child::after {align-self: flex-start;width: 50%;}#sk-container-id-2 div.sk-parallel-item:only-child::after {width: 0;}#sk-container-id-2 div.sk-dashed-wrapped {border: 1px dashed gray;margin: 0 0.4em 0.5em 0.4em;box-sizing: border-box;padding-bottom: 0.4em;background-color: white;}#sk-container-id-2 div.sk-label label {font-family: monospace;font-weight: bold;display: inline-block;line-height: 1.2em;}#sk-container-id-2 div.sk-label-container {text-align: center;}#sk-container-id-2 div.sk-container {/* jupyter's `normalize.less` sets `[hidden] { display: none; }` but bootstrap.min.css set `[hidden] { display: none !important; }` so we also need the `!important` here to be able to override the default hidden behavior on the sphinx rendered scikit-learn.org. See: https://github.com/scikit-learn/scikit-learn/issues/21755 */display: inline-block !important;position: relative;}#sk-container-id-2 div.sk-text-repr-fallback {display: none;}</style><div id=\"sk-container-id-2\" class=\"sk-top-container\"><div class=\"sk-text-repr-fallback\"><pre>DecisionTreeRegressor()</pre><b>In a Jupyter environment, please rerun this cell to show the HTML representation or trust the notebook. <br />On GitHub, the HTML representation is unable to render, please try loading this page with nbviewer.org.</b></div><div class=\"sk-container\" hidden><div class=\"sk-item\"><div class=\"sk-estimator sk-toggleable\"><input class=\"sk-toggleable__control sk-hidden--visually\" id=\"sk-estimator-id-2\" type=\"checkbox\" checked><label for=\"sk-estimator-id-2\" class=\"sk-toggleable__label sk-toggleable__label-arrow\">DecisionTreeRegressor</label><div class=\"sk-toggleable__content\"><pre>DecisionTreeRegressor()</pre></div></div></div></div></div>"
      ],
      "text/plain": [
       "DecisionTreeRegressor()"
      ]
     },
     "execution_count": 64,
     "metadata": {},
     "output_type": "execute_result"
    }
   ],
   "source": [
    "model2=DecisionTreeRegressor()\n",
    "model2.fit(x_train,y_train)"
   ]
  },
  {
   "cell_type": "code",
   "execution_count": 65,
   "id": "d4d12d7d",
   "metadata": {},
   "outputs": [
    {
     "data": {
      "text/plain": [
       "23"
      ]
     },
     "execution_count": 65,
     "metadata": {},
     "output_type": "execute_result"
    }
   ],
   "source": [
    "model2.get_depth()"
   ]
  },
  {
   "cell_type": "code",
   "execution_count": 66,
   "id": "25bc8a87",
   "metadata": {},
   "outputs": [
    {
     "name": "stdout",
     "output_type": "stream",
     "text": [
      "Test score: 0.8013097637630602\n",
      "Train score: 0.9997601289472988\n",
      "Error: 621308822518.4282\n"
     ]
    }
   ],
   "source": [
    "print('Test score:',model2.score(x_test,y_test))\n",
    "print('Train score:',model2.score(x_train,y_train))\n",
    "y_pred2=model2.predict(x_test)\n",
    "print('Error:',mean_squared_error(y_test,y_pred2))"
   ]
  },
  {
   "cell_type": "code",
   "execution_count": 67,
   "id": "827e8844",
   "metadata": {},
   "outputs": [
    {
     "name": "stdout",
     "output_type": "stream",
     "text": [
      "Test score: 0.7247906642105673\n",
      "Train score: 0.88660121334913\n",
      "Error: 860585762057.8\n"
     ]
    }
   ],
   "source": [
    "model3=DecisionTreeRegressor(max_depth=5)\n",
    "model3.fit(x_train,y_train)\n",
    "print('Test score:',model3.score(x_test,y_test))\n",
    "print('Train score:',model3.score(x_train,y_train))\n",
    "y_pred3=model3.predict(x_test)\n",
    "print('Error:',mean_squared_error(y_test,y_pred3))"
   ]
  },
  {
   "cell_type": "markdown",
   "id": "ad8ecdab",
   "metadata": {},
   "source": [
    "### Random Forest Regressor"
   ]
  },
  {
   "cell_type": "code",
   "execution_count": 68,
   "id": "9016b57d",
   "metadata": {},
   "outputs": [
    {
     "name": "stdout",
     "output_type": "stream",
     "text": [
      "train score: 0.9802454157164469\n",
      "test score: 0.8798447050334902\n"
     ]
    }
   ],
   "source": [
    "model4 = RandomForestRegressor(random_state=10)\n",
    "model4.fit(x_train,y_train)\n",
    "print('train score:',model4.score(x_train,y_train))\n",
    "print('test score:',model4.score(x_test,y_test))"
   ]
  },
  {
   "cell_type": "code",
   "execution_count": 69,
   "id": "296b3eca",
   "metadata": {},
   "outputs": [
    {
     "name": "stdout",
     "output_type": "stream",
     "text": [
      "train score: 0.9812934203518014\n",
      "test score: 0.8757463016741461\n"
     ]
    }
   ],
   "source": [
    "model5 = RandomForestRegressor(n_estimators=50,random_state=1)\n",
    "model5.fit(x_train,y_train)\n",
    "print('train score:',model5.score(x_train,y_train))\n",
    "print('test score:',model5.score(x_test,y_test))"
   ]
  },
  {
   "cell_type": "markdown",
   "id": "55b98c6d",
   "metadata": {},
   "source": [
    "### K Neigbours Regressor"
   ]
  },
  {
   "cell_type": "code",
   "execution_count": 70,
   "id": "e0c39715",
   "metadata": {},
   "outputs": [
    {
     "name": "stdout",
     "output_type": "stream",
     "text": [
      "Train score: 0.6199978204092708\n",
      "Test score: 0.35698595850922155\n"
     ]
    }
   ],
   "source": [
    "model6=KNeighborsRegressor()\n",
    "model6.fit(x_train,y_train)\n",
    "print('Train score:',model6.score(x_train,y_train))\n",
    "print('Test score:',model6.score(x_test,y_test))"
   ]
  },
  {
   "cell_type": "code",
   "execution_count": 71,
   "id": "5f488a91",
   "metadata": {},
   "outputs": [
    {
     "name": "stdout",
     "output_type": "stream",
     "text": [
      "Train score: 0.4937123480771244\n",
      "Test score: 0.29842317498351945\n"
     ]
    }
   ],
   "source": [
    "model7=KNeighborsRegressor(n_neighbors=10)\n",
    "model7.fit(x_train,y_train)\n",
    "print('Train score:',model7.score(x_train,y_train))\n",
    "print('Test score:',model7.score(x_test,y_test))"
   ]
  },
  {
   "cell_type": "markdown",
   "id": "b835a393",
   "metadata": {},
   "source": [
    "### Support Vectors Machine"
   ]
  },
  {
   "cell_type": "code",
   "execution_count": 72,
   "id": "0bc3df48",
   "metadata": {},
   "outputs": [
    {
     "name": "stdout",
     "output_type": "stream",
     "text": [
      "Train score: -0.14027378318919825\n",
      "Test score: -0.09966172325697498\n"
     ]
    }
   ],
   "source": [
    "model8 = SVR()\n",
    "model8.fit(x_train,y_train)\n",
    "print('Train score:',model8.score(x_train,y_train))\n",
    "print('Test score:',model8.score(x_test,y_test))"
   ]
  },
  {
   "cell_type": "markdown",
   "id": "9308e961",
   "metadata": {},
   "source": [
    "### Boosting Algorithms"
   ]
  },
  {
   "cell_type": "code",
   "execution_count": 73,
   "id": "15eaa950",
   "metadata": {},
   "outputs": [
    {
     "name": "stderr",
     "output_type": "stream",
     "text": [
      "C:\\Users\\sreed\\anaconda3\\Lib\\site-packages\\sklearn\\ensemble\\_base.py:166: FutureWarning: `base_estimator` was renamed to `estimator` in version 1.2 and will be removed in 1.4.\n",
      "  warnings.warn(\n"
     ]
    },
    {
     "data": {
      "text/html": [
       "<style>#sk-container-id-3 {color: black;background-color: white;}#sk-container-id-3 pre{padding: 0;}#sk-container-id-3 div.sk-toggleable {background-color: white;}#sk-container-id-3 label.sk-toggleable__label {cursor: pointer;display: block;width: 100%;margin-bottom: 0;padding: 0.3em;box-sizing: border-box;text-align: center;}#sk-container-id-3 label.sk-toggleable__label-arrow:before {content: \"▸\";float: left;margin-right: 0.25em;color: #696969;}#sk-container-id-3 label.sk-toggleable__label-arrow:hover:before {color: black;}#sk-container-id-3 div.sk-estimator:hover label.sk-toggleable__label-arrow:before {color: black;}#sk-container-id-3 div.sk-toggleable__content {max-height: 0;max-width: 0;overflow: hidden;text-align: left;background-color: #f0f8ff;}#sk-container-id-3 div.sk-toggleable__content pre {margin: 0.2em;color: black;border-radius: 0.25em;background-color: #f0f8ff;}#sk-container-id-3 input.sk-toggleable__control:checked~div.sk-toggleable__content {max-height: 200px;max-width: 100%;overflow: auto;}#sk-container-id-3 input.sk-toggleable__control:checked~label.sk-toggleable__label-arrow:before {content: \"▾\";}#sk-container-id-3 div.sk-estimator input.sk-toggleable__control:checked~label.sk-toggleable__label {background-color: #d4ebff;}#sk-container-id-3 div.sk-label input.sk-toggleable__control:checked~label.sk-toggleable__label {background-color: #d4ebff;}#sk-container-id-3 input.sk-hidden--visually {border: 0;clip: rect(1px 1px 1px 1px);clip: rect(1px, 1px, 1px, 1px);height: 1px;margin: -1px;overflow: hidden;padding: 0;position: absolute;width: 1px;}#sk-container-id-3 div.sk-estimator {font-family: monospace;background-color: #f0f8ff;border: 1px dotted black;border-radius: 0.25em;box-sizing: border-box;margin-bottom: 0.5em;}#sk-container-id-3 div.sk-estimator:hover {background-color: #d4ebff;}#sk-container-id-3 div.sk-parallel-item::after {content: \"\";width: 100%;border-bottom: 1px solid gray;flex-grow: 1;}#sk-container-id-3 div.sk-label:hover label.sk-toggleable__label {background-color: #d4ebff;}#sk-container-id-3 div.sk-serial::before {content: \"\";position: absolute;border-left: 1px solid gray;box-sizing: border-box;top: 0;bottom: 0;left: 50%;z-index: 0;}#sk-container-id-3 div.sk-serial {display: flex;flex-direction: column;align-items: center;background-color: white;padding-right: 0.2em;padding-left: 0.2em;position: relative;}#sk-container-id-3 div.sk-item {position: relative;z-index: 1;}#sk-container-id-3 div.sk-parallel {display: flex;align-items: stretch;justify-content: center;background-color: white;position: relative;}#sk-container-id-3 div.sk-item::before, #sk-container-id-3 div.sk-parallel-item::before {content: \"\";position: absolute;border-left: 1px solid gray;box-sizing: border-box;top: 0;bottom: 0;left: 50%;z-index: -1;}#sk-container-id-3 div.sk-parallel-item {display: flex;flex-direction: column;z-index: 1;position: relative;background-color: white;}#sk-container-id-3 div.sk-parallel-item:first-child::after {align-self: flex-end;width: 50%;}#sk-container-id-3 div.sk-parallel-item:last-child::after {align-self: flex-start;width: 50%;}#sk-container-id-3 div.sk-parallel-item:only-child::after {width: 0;}#sk-container-id-3 div.sk-dashed-wrapped {border: 1px dashed gray;margin: 0 0.4em 0.5em 0.4em;box-sizing: border-box;padding-bottom: 0.4em;background-color: white;}#sk-container-id-3 div.sk-label label {font-family: monospace;font-weight: bold;display: inline-block;line-height: 1.2em;}#sk-container-id-3 div.sk-label-container {text-align: center;}#sk-container-id-3 div.sk-container {/* jupyter's `normalize.less` sets `[hidden] { display: none; }` but bootstrap.min.css set `[hidden] { display: none !important; }` so we also need the `!important` here to be able to override the default hidden behavior on the sphinx rendered scikit-learn.org. See: https://github.com/scikit-learn/scikit-learn/issues/21755 */display: inline-block !important;position: relative;}#sk-container-id-3 div.sk-text-repr-fallback {display: none;}</style><div id=\"sk-container-id-3\" class=\"sk-top-container\"><div class=\"sk-text-repr-fallback\"><pre>AdaBoostRegressor(base_estimator=DecisionTreeRegressor(max_depth=7),\n",
       "                  learning_rate=0.6)</pre><b>In a Jupyter environment, please rerun this cell to show the HTML representation or trust the notebook. <br />On GitHub, the HTML representation is unable to render, please try loading this page with nbviewer.org.</b></div><div class=\"sk-container\" hidden><div class=\"sk-item sk-dashed-wrapped\"><div class=\"sk-label-container\"><div class=\"sk-label sk-toggleable\"><input class=\"sk-toggleable__control sk-hidden--visually\" id=\"sk-estimator-id-3\" type=\"checkbox\" ><label for=\"sk-estimator-id-3\" class=\"sk-toggleable__label sk-toggleable__label-arrow\">AdaBoostRegressor</label><div class=\"sk-toggleable__content\"><pre>AdaBoostRegressor(base_estimator=DecisionTreeRegressor(max_depth=7),\n",
       "                  learning_rate=0.6)</pre></div></div></div><div class=\"sk-parallel\"><div class=\"sk-parallel-item\"><div class=\"sk-item\"><div class=\"sk-label-container\"><div class=\"sk-label sk-toggleable\"><input class=\"sk-toggleable__control sk-hidden--visually\" id=\"sk-estimator-id-4\" type=\"checkbox\" ><label for=\"sk-estimator-id-4\" class=\"sk-toggleable__label sk-toggleable__label-arrow\">base_estimator: DecisionTreeRegressor</label><div class=\"sk-toggleable__content\"><pre>DecisionTreeRegressor(max_depth=7)</pre></div></div></div><div class=\"sk-serial\"><div class=\"sk-item\"><div class=\"sk-estimator sk-toggleable\"><input class=\"sk-toggleable__control sk-hidden--visually\" id=\"sk-estimator-id-5\" type=\"checkbox\" ><label for=\"sk-estimator-id-5\" class=\"sk-toggleable__label sk-toggleable__label-arrow\">DecisionTreeRegressor</label><div class=\"sk-toggleable__content\"><pre>DecisionTreeRegressor(max_depth=7)</pre></div></div></div></div></div></div></div></div></div></div>"
      ],
      "text/plain": [
       "AdaBoostRegressor(base_estimator=DecisionTreeRegressor(max_depth=7),\n",
       "                  learning_rate=0.6)"
      ]
     },
     "execution_count": 73,
     "metadata": {},
     "output_type": "execute_result"
    }
   ],
   "source": [
    "model9=AdaBoostRegressor(base_estimator=DecisionTreeRegressor(max_depth=7),learning_rate=0.6)\n",
    "model9.fit(x_train,y_train)"
   ]
  },
  {
   "cell_type": "code",
   "execution_count": 74,
   "id": "f7fe0b05",
   "metadata": {},
   "outputs": [
    {
     "data": {
      "text/plain": [
       "0.9883636358754135"
      ]
     },
     "execution_count": 74,
     "metadata": {},
     "output_type": "execute_result"
    }
   ],
   "source": [
    "model9.score(x_train,y_train)"
   ]
  },
  {
   "cell_type": "code",
   "execution_count": 75,
   "id": "573d723b",
   "metadata": {},
   "outputs": [
    {
     "data": {
      "text/plain": [
       "0.8947624505187929"
      ]
     },
     "execution_count": 75,
     "metadata": {},
     "output_type": "execute_result"
    }
   ],
   "source": [
    "model9.score(x_test,y_test)"
   ]
  },
  {
   "cell_type": "code",
   "execution_count": 76,
   "id": "24b399fd",
   "metadata": {},
   "outputs": [
    {
     "data": {
      "text/html": [
       "<style>#sk-container-id-4 {color: black;background-color: white;}#sk-container-id-4 pre{padding: 0;}#sk-container-id-4 div.sk-toggleable {background-color: white;}#sk-container-id-4 label.sk-toggleable__label {cursor: pointer;display: block;width: 100%;margin-bottom: 0;padding: 0.3em;box-sizing: border-box;text-align: center;}#sk-container-id-4 label.sk-toggleable__label-arrow:before {content: \"▸\";float: left;margin-right: 0.25em;color: #696969;}#sk-container-id-4 label.sk-toggleable__label-arrow:hover:before {color: black;}#sk-container-id-4 div.sk-estimator:hover label.sk-toggleable__label-arrow:before {color: black;}#sk-container-id-4 div.sk-toggleable__content {max-height: 0;max-width: 0;overflow: hidden;text-align: left;background-color: #f0f8ff;}#sk-container-id-4 div.sk-toggleable__content pre {margin: 0.2em;color: black;border-radius: 0.25em;background-color: #f0f8ff;}#sk-container-id-4 input.sk-toggleable__control:checked~div.sk-toggleable__content {max-height: 200px;max-width: 100%;overflow: auto;}#sk-container-id-4 input.sk-toggleable__control:checked~label.sk-toggleable__label-arrow:before {content: \"▾\";}#sk-container-id-4 div.sk-estimator input.sk-toggleable__control:checked~label.sk-toggleable__label {background-color: #d4ebff;}#sk-container-id-4 div.sk-label input.sk-toggleable__control:checked~label.sk-toggleable__label {background-color: #d4ebff;}#sk-container-id-4 input.sk-hidden--visually {border: 0;clip: rect(1px 1px 1px 1px);clip: rect(1px, 1px, 1px, 1px);height: 1px;margin: -1px;overflow: hidden;padding: 0;position: absolute;width: 1px;}#sk-container-id-4 div.sk-estimator {font-family: monospace;background-color: #f0f8ff;border: 1px dotted black;border-radius: 0.25em;box-sizing: border-box;margin-bottom: 0.5em;}#sk-container-id-4 div.sk-estimator:hover {background-color: #d4ebff;}#sk-container-id-4 div.sk-parallel-item::after {content: \"\";width: 100%;border-bottom: 1px solid gray;flex-grow: 1;}#sk-container-id-4 div.sk-label:hover label.sk-toggleable__label {background-color: #d4ebff;}#sk-container-id-4 div.sk-serial::before {content: \"\";position: absolute;border-left: 1px solid gray;box-sizing: border-box;top: 0;bottom: 0;left: 50%;z-index: 0;}#sk-container-id-4 div.sk-serial {display: flex;flex-direction: column;align-items: center;background-color: white;padding-right: 0.2em;padding-left: 0.2em;position: relative;}#sk-container-id-4 div.sk-item {position: relative;z-index: 1;}#sk-container-id-4 div.sk-parallel {display: flex;align-items: stretch;justify-content: center;background-color: white;position: relative;}#sk-container-id-4 div.sk-item::before, #sk-container-id-4 div.sk-parallel-item::before {content: \"\";position: absolute;border-left: 1px solid gray;box-sizing: border-box;top: 0;bottom: 0;left: 50%;z-index: -1;}#sk-container-id-4 div.sk-parallel-item {display: flex;flex-direction: column;z-index: 1;position: relative;background-color: white;}#sk-container-id-4 div.sk-parallel-item:first-child::after {align-self: flex-end;width: 50%;}#sk-container-id-4 div.sk-parallel-item:last-child::after {align-self: flex-start;width: 50%;}#sk-container-id-4 div.sk-parallel-item:only-child::after {width: 0;}#sk-container-id-4 div.sk-dashed-wrapped {border: 1px dashed gray;margin: 0 0.4em 0.5em 0.4em;box-sizing: border-box;padding-bottom: 0.4em;background-color: white;}#sk-container-id-4 div.sk-label label {font-family: monospace;font-weight: bold;display: inline-block;line-height: 1.2em;}#sk-container-id-4 div.sk-label-container {text-align: center;}#sk-container-id-4 div.sk-container {/* jupyter's `normalize.less` sets `[hidden] { display: none; }` but bootstrap.min.css set `[hidden] { display: none !important; }` so we also need the `!important` here to be able to override the default hidden behavior on the sphinx rendered scikit-learn.org. See: https://github.com/scikit-learn/scikit-learn/issues/21755 */display: inline-block !important;position: relative;}#sk-container-id-4 div.sk-text-repr-fallback {display: none;}</style><div id=\"sk-container-id-4\" class=\"sk-top-container\"><div class=\"sk-text-repr-fallback\"><pre>GradientBoostingRegressor(learning_rate=0.6, max_depth=6)</pre><b>In a Jupyter environment, please rerun this cell to show the HTML representation or trust the notebook. <br />On GitHub, the HTML representation is unable to render, please try loading this page with nbviewer.org.</b></div><div class=\"sk-container\" hidden><div class=\"sk-item\"><div class=\"sk-estimator sk-toggleable\"><input class=\"sk-toggleable__control sk-hidden--visually\" id=\"sk-estimator-id-6\" type=\"checkbox\" checked><label for=\"sk-estimator-id-6\" class=\"sk-toggleable__label sk-toggleable__label-arrow\">GradientBoostingRegressor</label><div class=\"sk-toggleable__content\"><pre>GradientBoostingRegressor(learning_rate=0.6, max_depth=6)</pre></div></div></div></div></div>"
      ],
      "text/plain": [
       "GradientBoostingRegressor(learning_rate=0.6, max_depth=6)"
      ]
     },
     "execution_count": 76,
     "metadata": {},
     "output_type": "execute_result"
    }
   ],
   "source": [
    "model10=GradientBoostingRegressor(max_depth=6, learning_rate=0.6)\n",
    "model10.fit(x_train,y_train)"
   ]
  },
  {
   "cell_type": "code",
   "execution_count": 77,
   "id": "f29db858",
   "metadata": {},
   "outputs": [
    {
     "data": {
      "text/plain": [
       "0.9997547380391012"
      ]
     },
     "execution_count": 77,
     "metadata": {},
     "output_type": "execute_result"
    }
   ],
   "source": [
    "model10.score(x_train,y_train)"
   ]
  },
  {
   "cell_type": "code",
   "execution_count": 78,
   "id": "d50dc94b",
   "metadata": {},
   "outputs": [
    {
     "data": {
      "text/plain": [
       "0.8873999570261866"
      ]
     },
     "execution_count": 78,
     "metadata": {},
     "output_type": "execute_result"
    }
   ],
   "source": [
    "model10.score(x_test,y_test)"
   ]
  },
  {
   "cell_type": "code",
   "execution_count": 79,
   "id": "ce1dfd21",
   "metadata": {},
   "outputs": [
    {
     "data": {
      "text/html": [
       "<style>#sk-container-id-5 {color: black;background-color: white;}#sk-container-id-5 pre{padding: 0;}#sk-container-id-5 div.sk-toggleable {background-color: white;}#sk-container-id-5 label.sk-toggleable__label {cursor: pointer;display: block;width: 100%;margin-bottom: 0;padding: 0.3em;box-sizing: border-box;text-align: center;}#sk-container-id-5 label.sk-toggleable__label-arrow:before {content: \"▸\";float: left;margin-right: 0.25em;color: #696969;}#sk-container-id-5 label.sk-toggleable__label-arrow:hover:before {color: black;}#sk-container-id-5 div.sk-estimator:hover label.sk-toggleable__label-arrow:before {color: black;}#sk-container-id-5 div.sk-toggleable__content {max-height: 0;max-width: 0;overflow: hidden;text-align: left;background-color: #f0f8ff;}#sk-container-id-5 div.sk-toggleable__content pre {margin: 0.2em;color: black;border-radius: 0.25em;background-color: #f0f8ff;}#sk-container-id-5 input.sk-toggleable__control:checked~div.sk-toggleable__content {max-height: 200px;max-width: 100%;overflow: auto;}#sk-container-id-5 input.sk-toggleable__control:checked~label.sk-toggleable__label-arrow:before {content: \"▾\";}#sk-container-id-5 div.sk-estimator input.sk-toggleable__control:checked~label.sk-toggleable__label {background-color: #d4ebff;}#sk-container-id-5 div.sk-label input.sk-toggleable__control:checked~label.sk-toggleable__label {background-color: #d4ebff;}#sk-container-id-5 input.sk-hidden--visually {border: 0;clip: rect(1px 1px 1px 1px);clip: rect(1px, 1px, 1px, 1px);height: 1px;margin: -1px;overflow: hidden;padding: 0;position: absolute;width: 1px;}#sk-container-id-5 div.sk-estimator {font-family: monospace;background-color: #f0f8ff;border: 1px dotted black;border-radius: 0.25em;box-sizing: border-box;margin-bottom: 0.5em;}#sk-container-id-5 div.sk-estimator:hover {background-color: #d4ebff;}#sk-container-id-5 div.sk-parallel-item::after {content: \"\";width: 100%;border-bottom: 1px solid gray;flex-grow: 1;}#sk-container-id-5 div.sk-label:hover label.sk-toggleable__label {background-color: #d4ebff;}#sk-container-id-5 div.sk-serial::before {content: \"\";position: absolute;border-left: 1px solid gray;box-sizing: border-box;top: 0;bottom: 0;left: 50%;z-index: 0;}#sk-container-id-5 div.sk-serial {display: flex;flex-direction: column;align-items: center;background-color: white;padding-right: 0.2em;padding-left: 0.2em;position: relative;}#sk-container-id-5 div.sk-item {position: relative;z-index: 1;}#sk-container-id-5 div.sk-parallel {display: flex;align-items: stretch;justify-content: center;background-color: white;position: relative;}#sk-container-id-5 div.sk-item::before, #sk-container-id-5 div.sk-parallel-item::before {content: \"\";position: absolute;border-left: 1px solid gray;box-sizing: border-box;top: 0;bottom: 0;left: 50%;z-index: -1;}#sk-container-id-5 div.sk-parallel-item {display: flex;flex-direction: column;z-index: 1;position: relative;background-color: white;}#sk-container-id-5 div.sk-parallel-item:first-child::after {align-self: flex-end;width: 50%;}#sk-container-id-5 div.sk-parallel-item:last-child::after {align-self: flex-start;width: 50%;}#sk-container-id-5 div.sk-parallel-item:only-child::after {width: 0;}#sk-container-id-5 div.sk-dashed-wrapped {border: 1px dashed gray;margin: 0 0.4em 0.5em 0.4em;box-sizing: border-box;padding-bottom: 0.4em;background-color: white;}#sk-container-id-5 div.sk-label label {font-family: monospace;font-weight: bold;display: inline-block;line-height: 1.2em;}#sk-container-id-5 div.sk-label-container {text-align: center;}#sk-container-id-5 div.sk-container {/* jupyter's `normalize.less` sets `[hidden] { display: none; }` but bootstrap.min.css set `[hidden] { display: none !important; }` so we also need the `!important` here to be able to override the default hidden behavior on the sphinx rendered scikit-learn.org. See: https://github.com/scikit-learn/scikit-learn/issues/21755 */display: inline-block !important;position: relative;}#sk-container-id-5 div.sk-text-repr-fallback {display: none;}</style><div id=\"sk-container-id-5\" class=\"sk-top-container\"><div class=\"sk-text-repr-fallback\"><pre>XGBRegressor(base_score=None, booster=None, callbacks=None,\n",
       "             colsample_bylevel=None, colsample_bynode=None,\n",
       "             colsample_bytree=None, device=None, early_stopping_rounds=None,\n",
       "             enable_categorical=False, eval_metric=None, feature_types=None,\n",
       "             gamma=None, grow_policy=None, importance_type=None,\n",
       "             interaction_constraints=None, learning_rate=None, max_bin=None,\n",
       "             max_cat_threshold=None, max_cat_to_onehot=None,\n",
       "             max_delta_step=None, max_depth=None, max_leaves=None,\n",
       "             min_child_weight=None, missing=nan, monotone_constraints=None,\n",
       "             multi_strategy=None, n_estimators=None, n_jobs=None,\n",
       "             num_parallel_tree=None, random_state=None, ...)</pre><b>In a Jupyter environment, please rerun this cell to show the HTML representation or trust the notebook. <br />On GitHub, the HTML representation is unable to render, please try loading this page with nbviewer.org.</b></div><div class=\"sk-container\" hidden><div class=\"sk-item\"><div class=\"sk-estimator sk-toggleable\"><input class=\"sk-toggleable__control sk-hidden--visually\" id=\"sk-estimator-id-7\" type=\"checkbox\" checked><label for=\"sk-estimator-id-7\" class=\"sk-toggleable__label sk-toggleable__label-arrow\">XGBRegressor</label><div class=\"sk-toggleable__content\"><pre>XGBRegressor(base_score=None, booster=None, callbacks=None,\n",
       "             colsample_bylevel=None, colsample_bynode=None,\n",
       "             colsample_bytree=None, device=None, early_stopping_rounds=None,\n",
       "             enable_categorical=False, eval_metric=None, feature_types=None,\n",
       "             gamma=None, grow_policy=None, importance_type=None,\n",
       "             interaction_constraints=None, learning_rate=None, max_bin=None,\n",
       "             max_cat_threshold=None, max_cat_to_onehot=None,\n",
       "             max_delta_step=None, max_depth=None, max_leaves=None,\n",
       "             min_child_weight=None, missing=nan, monotone_constraints=None,\n",
       "             multi_strategy=None, n_estimators=None, n_jobs=None,\n",
       "             num_parallel_tree=None, random_state=None, ...)</pre></div></div></div></div></div>"
      ],
      "text/plain": [
       "XGBRegressor(base_score=None, booster=None, callbacks=None,\n",
       "             colsample_bylevel=None, colsample_bynode=None,\n",
       "             colsample_bytree=None, device=None, early_stopping_rounds=None,\n",
       "             enable_categorical=False, eval_metric=None, feature_types=None,\n",
       "             gamma=None, grow_policy=None, importance_type=None,\n",
       "             interaction_constraints=None, learning_rate=None, max_bin=None,\n",
       "             max_cat_threshold=None, max_cat_to_onehot=None,\n",
       "             max_delta_step=None, max_depth=None, max_leaves=None,\n",
       "             min_child_weight=None, missing=nan, monotone_constraints=None,\n",
       "             multi_strategy=None, n_estimators=None, n_jobs=None,\n",
       "             num_parallel_tree=None, random_state=None, ...)"
      ]
     },
     "execution_count": 79,
     "metadata": {},
     "output_type": "execute_result"
    }
   ],
   "source": [
    "model11=XGBRegressor()\n",
    "model11.fit(x_train,y_train)"
   ]
  },
  {
   "cell_type": "code",
   "execution_count": 80,
   "id": "3348233f",
   "metadata": {},
   "outputs": [
    {
     "data": {
      "text/plain": [
       "0.9994976533797738"
      ]
     },
     "execution_count": 80,
     "metadata": {},
     "output_type": "execute_result"
    }
   ],
   "source": [
    "model11.score(x_train,y_train)"
   ]
  },
  {
   "cell_type": "code",
   "execution_count": 81,
   "id": "3ec93157",
   "metadata": {},
   "outputs": [
    {
     "data": {
      "text/plain": [
       "0.9260162803334624"
      ]
     },
     "execution_count": 81,
     "metadata": {},
     "output_type": "execute_result"
    }
   ],
   "source": [
    "model11.score(x_test,y_test)"
   ]
  },
  {
   "cell_type": "markdown",
   "id": "98a07151",
   "metadata": {},
   "source": [
    "### Model Score Comparison"
   ]
  },
  {
   "cell_type": "code",
   "execution_count": 82,
   "id": "846ef144",
   "metadata": {},
   "outputs": [],
   "source": [
    "model=['Linear Regression','Decision Tree','Random Forest','KNN','SVM','Adaboost','Gradient Boosting','XGB']"
   ]
  },
  {
   "cell_type": "code",
   "execution_count": 83,
   "id": "5ce55c6e",
   "metadata": {},
   "outputs": [],
   "source": [
    "score=[model1.score(x_test,y_test),model3.score(x_test,y_test),model4.score(x_test,y_test),model6.score(x_test,y_test),model8.score(x_test,y_test),model9.score(x_test,y_test),model10.score(x_test,y_test),model11.score(x_test,y_test)]"
   ]
  },
  {
   "cell_type": "code",
   "execution_count": 84,
   "id": "681993d2",
   "metadata": {},
   "outputs": [
    {
     "data": {
      "image/png": "[encoded data removed]",
      "text/plain": [
       "<Figure size 640x480 with 1 Axes>"
      ]
     },
     "metadata": {},
     "output_type": "display_data"
    }
   ],
   "source": [
    "plt.bar(model,score)\n",
    "plt.title('Model Performance Comparison')\n",
    "plt.xticks(rotation=60)\n",
    "for i,score in enumerate(score):\n",
    "    plt.text(i,score,f'{score:.2f}',ha='center',va='bottom')"
   ]
  },
  {
   "cell_type": "markdown",
   "id": "897890dc",
   "metadata": {},
   "source": [
    "### Optimization"
   ]
  },
  {
   "cell_type": "code",
   "execution_count": 97,
   "id": "5a9f4eb4",
   "metadata": {},
   "outputs": [],
   "source": [
    "gscv = GridSearchCV(model11,{'n_estimators': [10,15,20,30,40,50,60,70,80,90,100],'learning_rate':[0.3,0.4,0.5,0.6,0.7],'max_depth':[4,5,6,7,8]},cv=5)"
   ]
  },
  {
   "cell_type": "code",
   "execution_count": 94,
   "id": "cbc48559",
   "metadata": {},
   "outputs": [
    {
     "data": {
      "text/html": [
       "<style>#sk-container-id-8 {color: black;background-color: white;}#sk-container-id-8 pre{padding: 0;}#sk-container-id-8 div.sk-toggleable {background-color: white;}#sk-container-id-8 label.sk-toggleable__label {cursor: pointer;display: block;width: 100%;margin-bottom: 0;padding: 0.3em;box-sizing: border-box;text-align: center;}#sk-container-id-8 label.sk-toggleable__label-arrow:before {content: \"▸\";float: left;margin-right: 0.25em;color: #696969;}#sk-container-id-8 label.sk-toggleable__label-arrow:hover:before {color: black;}#sk-container-id-8 div.sk-estimator:hover label.sk-toggleable__label-arrow:before {color: black;}#sk-container-id-8 div.sk-toggleable__content {max-height: 0;max-width: 0;overflow: hidden;text-align: left;background-color: #f0f8ff;}#sk-container-id-8 div.sk-toggleable__content pre {margin: 0.2em;color: black;border-radius: 0.25em;background-color: #f0f8ff;}#sk-container-id-8 input.sk-toggleable__control:checked~div.sk-toggleable__content {max-height: 200px;max-width: 100%;overflow: auto;}#sk-container-id-8 input.sk-toggleable__control:checked~label.sk-toggleable__label-arrow:before {content: \"▾\";}#sk-container-id-8 div.sk-estimator input.sk-toggleable__control:checked~label.sk-toggleable__label {background-color: #d4ebff;}#sk-container-id-8 div.sk-label input.sk-toggleable__control:checked~label.sk-toggleable__label {background-color: #d4ebff;}#sk-container-id-8 input.sk-hidden--visually {border: 0;clip: rect(1px 1px 1px 1px);clip: rect(1px, 1px, 1px, 1px);height: 1px;margin: -1px;overflow: hidden;padding: 0;position: absolute;width: 1px;}#sk-container-id-8 div.sk-estimator {font-family: monospace;background-color: #f0f8ff;border: 1px dotted black;border-radius: 0.25em;box-sizing: border-box;margin-bottom: 0.5em;}#sk-container-id-8 div.sk-estimator:hover {background-color: #d4ebff;}#sk-container-id-8 div.sk-parallel-item::after {content: \"\";width: 100%;border-bottom: 1px solid gray;flex-grow: 1;}#sk-container-id-8 div.sk-label:hover label.sk-toggleable__label {background-color: #d4ebff;}#sk-container-id-8 div.sk-serial::before {content: \"\";position: absolute;border-left: 1px solid gray;box-sizing: border-box;top: 0;bottom: 0;left: 50%;z-index: 0;}#sk-container-id-8 div.sk-serial {display: flex;flex-direction: column;align-items: center;background-color: white;padding-right: 0.2em;padding-left: 0.2em;position: relative;}#sk-container-id-8 div.sk-item {position: relative;z-index: 1;}#sk-container-id-8 div.sk-parallel {display: flex;align-items: stretch;justify-content: center;background-color: white;position: relative;}#sk-container-id-8 div.sk-item::before, #sk-container-id-8 div.sk-parallel-item::before {content: \"\";position: absolute;border-left: 1px solid gray;box-sizing: border-box;top: 0;bottom: 0;left: 50%;z-index: -1;}#sk-container-id-8 div.sk-parallel-item {display: flex;flex-direction: column;z-index: 1;position: relative;background-color: white;}#sk-container-id-8 div.sk-parallel-item:first-child::after {align-self: flex-end;width: 50%;}#sk-container-id-8 div.sk-parallel-item:last-child::after {align-self: flex-start;width: 50%;}#sk-container-id-8 div.sk-parallel-item:only-child::after {width: 0;}#sk-container-id-8 div.sk-dashed-wrapped {border: 1px dashed gray;margin: 0 0.4em 0.5em 0.4em;box-sizing: border-box;padding-bottom: 0.4em;background-color: white;}#sk-container-id-8 div.sk-label label {font-family: monospace;font-weight: bold;display: inline-block;line-height: 1.2em;}#sk-container-id-8 div.sk-label-container {text-align: center;}#sk-container-id-8 div.sk-container {/* jupyter's `normalize.less` sets `[hidden] { display: none; }` but bootstrap.min.css set `[hidden] { display: none !important; }` so we also need the `!important` here to be able to override the default hidden behavior on the sphinx rendered scikit-learn.org. See: https://github.com/scikit-learn/scikit-learn/issues/21755 */display: inline-block !important;position: relative;}#sk-container-id-8 div.sk-text-repr-fallback {display: none;}</style><div id=\"sk-container-id-8\" class=\"sk-top-container\"><div class=\"sk-text-repr-fallback\"><pre>GridSearchCV(cv=5,\n",
       "             estimator=XGBRegressor(base_score=None, booster=None,\n",
       "                                    callbacks=None, colsample_bylevel=None,\n",
       "                                    colsample_bynode=None,\n",
       "                                    colsample_bytree=None, device=None,\n",
       "                                    early_stopping_rounds=None,\n",
       "                                    enable_categorical=False, eval_metric=None,\n",
       "                                    feature_types=None, gamma=None,\n",
       "                                    grow_policy=None, importance_type=None,\n",
       "                                    interaction_constraints=None,\n",
       "                                    learning_rate=None, m...\n",
       "                                    max_cat_to_onehot=None, max_delta_step=None,\n",
       "                                    max_depth=None, max_leaves=None,\n",
       "                                    min_child_weight=None, missing=nan,\n",
       "                                    monotone_constraints=None,\n",
       "                                    multi_strategy=None, n_estimators=None,\n",
       "                                    n_jobs=None, num_parallel_tree=None,\n",
       "                                    random_state=None, ...),\n",
       "             param_grid={&#x27;learning_rate&#x27;: [0.3, 0.4, 0.5, 0.6, 0.7],\n",
       "                         &#x27;max_depth&#x27;: [4, 5, 6, 7],\n",
       "                         &#x27;n_estimators&#x27;: [10, 15, 20, 30, 40, 50, 60, 70, 80,\n",
       "                                          90, 100]})</pre><b>In a Jupyter environment, please rerun this cell to show the HTML representation or trust the notebook. <br />On GitHub, the HTML representation is unable to render, please try loading this page with nbviewer.org.</b></div><div class=\"sk-container\" hidden><div class=\"sk-item sk-dashed-wrapped\"><div class=\"sk-label-container\"><div class=\"sk-label sk-toggleable\"><input class=\"sk-toggleable__control sk-hidden--visually\" id=\"sk-estimator-id-14\" type=\"checkbox\" ><label for=\"sk-estimator-id-14\" class=\"sk-toggleable__label sk-toggleable__label-arrow\">GridSearchCV</label><div class=\"sk-toggleable__content\"><pre>GridSearchCV(cv=5,\n",
       "             estimator=XGBRegressor(base_score=None, booster=None,\n",
       "                                    callbacks=None, colsample_bylevel=None,\n",
       "                                    colsample_bynode=None,\n",
       "                                    colsample_bytree=None, device=None,\n",
       "                                    early_stopping_rounds=None,\n",
       "                                    enable_categorical=False, eval_metric=None,\n",
       "                                    feature_types=None, gamma=None,\n",
       "                                    grow_policy=None, importance_type=None,\n",
       "                                    interaction_constraints=None,\n",
       "                                    learning_rate=None, m...\n",
       "                                    max_cat_to_onehot=None, max_delta_step=None,\n",
       "                                    max_depth=None, max_leaves=None,\n",
       "                                    min_child_weight=None, missing=nan,\n",
       "                                    monotone_constraints=None,\n",
       "                                    multi_strategy=None, n_estimators=None,\n",
       "                                    n_jobs=None, num_parallel_tree=None,\n",
       "                                    random_state=None, ...),\n",
       "             param_grid={&#x27;learning_rate&#x27;: [0.3, 0.4, 0.5, 0.6, 0.7],\n",
       "                         &#x27;max_depth&#x27;: [4, 5, 6, 7],\n",
       "                         &#x27;n_estimators&#x27;: [10, 15, 20, 30, 40, 50, 60, 70, 80,\n",
       "                                          90, 100]})</pre></div></div></div><div class=\"sk-parallel\"><div class=\"sk-parallel-item\"><div class=\"sk-item\"><div class=\"sk-label-container\"><div class=\"sk-label sk-toggleable\"><input class=\"sk-toggleable__control sk-hidden--visually\" id=\"sk-estimator-id-15\" type=\"checkbox\" ><label for=\"sk-estimator-id-15\" class=\"sk-toggleable__label sk-toggleable__label-arrow\">estimator: XGBRegressor</label><div class=\"sk-toggleable__content\"><pre>XGBRegressor(base_score=None, booster=None, callbacks=None,\n",
       "             colsample_bylevel=None, colsample_bynode=None,\n",
       "             colsample_bytree=None, device=None, early_stopping_rounds=None,\n",
       "             enable_categorical=False, eval_metric=None, feature_types=None,\n",
       "             gamma=None, grow_policy=None, importance_type=None,\n",
       "             interaction_constraints=None, learning_rate=None, max_bin=None,\n",
       "             max_cat_threshold=None, max_cat_to_onehot=None,\n",
       "             max_delta_step=None, max_depth=None, max_leaves=None,\n",
       "             min_child_weight=None, missing=nan, monotone_constraints=None,\n",
       "             multi_strategy=None, n_estimators=None, n_jobs=None,\n",
       "             num_parallel_tree=None, random_state=None, ...)</pre></div></div></div><div class=\"sk-serial\"><div class=\"sk-item\"><div class=\"sk-estimator sk-toggleable\"><input class=\"sk-toggleable__control sk-hidden--visually\" id=\"sk-estimator-id-16\" type=\"checkbox\" ><label for=\"sk-estimator-id-16\" class=\"sk-toggleable__label sk-toggleable__label-arrow\">XGBRegressor</label><div class=\"sk-toggleable__content\"><pre>XGBRegressor(base_score=None, booster=None, callbacks=None,\n",
       "             colsample_bylevel=None, colsample_bynode=None,\n",
       "             colsample_bytree=None, device=None, early_stopping_rounds=None,\n",
       "             enable_categorical=False, eval_metric=None, feature_types=None,\n",
       "             gamma=None, grow_policy=None, importance_type=None,\n",
       "             interaction_constraints=None, learning_rate=None, max_bin=None,\n",
       "             max_cat_threshold=None, max_cat_to_onehot=None,\n",
       "             max_delta_step=None, max_depth=None, max_leaves=None,\n",
       "             min_child_weight=None, missing=nan, monotone_constraints=None,\n",
       "             multi_strategy=None, n_estimators=None, n_jobs=None,\n",
       "             num_parallel_tree=None, random_state=None, ...)</pre></div></div></div></div></div></div></div></div></div></div>"
      ],
      "text/plain": [
       "GridSearchCV(cv=5,\n",
       "             estimator=XGBRegressor(base_score=None, booster=None,\n",
       "                                    callbacks=None, colsample_bylevel=None,\n",
       "                                    colsample_bynode=None,\n",
       "                                    colsample_bytree=None, device=None,\n",
       "                                    early_stopping_rounds=None,\n",
       "                                    enable_categorical=False, eval_metric=None,\n",
       "                                    feature_types=None, gamma=None,\n",
       "                                    grow_policy=None, importance_type=None,\n",
       "                                    interaction_constraints=None,\n",
       "                                    learning_rate=None, m...\n",
       "                                    max_cat_to_onehot=None, max_delta_step=None,\n",
       "                                    max_depth=None, max_leaves=None,\n",
       "                                    min_child_weight=None, missing=nan,\n",
       "                                    monotone_constraints=None,\n",
       "                                    multi_strategy=None, n_estimators=None,\n",
       "                                    n_jobs=None, num_parallel_tree=None,\n",
       "                                    random_state=None, ...),\n",
       "             param_grid={'learning_rate': [0.3, 0.4, 0.5, 0.6, 0.7],\n",
       "                         'max_depth': [4, 5, 6, 7],\n",
       "                         'n_estimators': [10, 15, 20, 30, 40, 50, 60, 70, 80,\n",
       "                                          90, 100]})"
      ]
     },
     "execution_count": 94,
     "metadata": {},
     "output_type": "execute_result"
    }
   ],
   "source": [
    "gscv.fit(x,y)"
   ]
  },
  {
   "cell_type": "code",
   "execution_count": 95,
   "id": "621eae30",
   "metadata": {},
   "outputs": [
    {
     "data": {
      "text/plain": [
       "{'learning_rate': 0.3, 'max_depth': 6, 'n_estimators': 80}"
      ]
     },
     "execution_count": 95,
     "metadata": {},
     "output_type": "execute_result"
    }
   ],
   "source": [
    "gscv.best_params_"
   ]
  },
  {
   "cell_type": "code",
   "execution_count": 96,
   "id": "2a19b597",
   "metadata": {},
   "outputs": [
    {
     "data": {
      "text/plain": [
       "0.871158690204137"
      ]
     },
     "execution_count": 96,
     "metadata": {},
     "output_type": "execute_result"
    }
   ],
   "source": [
    "gscv.best_score_"
   ]
  },
  {
   "cell_type": "code",
   "execution_count": null,
   "id": "38a64268",
   "metadata": {},
   "outputs": [],
   "source": []
  }
 ],
 "metadata": {
  "kernelspec": {
   "display_name": "Python 3 (ipykernel)",
   "language": "python",
   "name": "python3"
  },
  "language_info": {
   "codemirror_mode": {
    "name": "ipython",
    "version": 3
   },
   "file_extension": ".py",
   "mimetype": "text/x-python",
   "name": "python",
   "nbconvert_exporter": "python",
   "pygments_lexer": "ipython3",
   "version": "3.11.5"
  }
 },
 "nbformat": 4,
 "nbformat_minor": 5
}
